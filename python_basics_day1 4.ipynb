{
  "nbformat": 4,
  "nbformat_minor": 0,
  "metadata": {
    "colab": {
      "provenance": [],
      "include_colab_link": true
    },
    "kernelspec": {
      "name": "python3",
      "display_name": "Python 3"
    },
    "language_info": {
      "name": "python"
    }
  },
  "cells": [
    {
      "cell_type": "markdown",
      "metadata": {
        "id": "view-in-github",
        "colab_type": "text"
      },
      "source": [
        "<a href=\"https://colab.research.google.com/github/bhagyashree28032001/Python-training/blob/main/python_basics_day1%204.ipynb\" target=\"_parent\"><img src=\"https://colab.research.google.com/assets/colab-badge.svg\" alt=\"Open In Colab\"/></a>"
      ]
    },
    {
      "cell_type": "code",
      "execution_count": null,
      "metadata": {
        "colab": {
          "base_uri": "https://localhost:8080/",
          "height": 141
        },
        "id": "fooBKl8FmcO4",
        "outputId": "2c2d67e8-e943-4afd-d46b-1b04919f4960"
      },
      "outputs": [
        {
          "output_type": "error",
          "ename": "NameError",
          "evalue": "name 'prit' is not defined",
          "traceback": [
            "\u001b[0;31m---------------------------------------------------------------------------\u001b[0m",
            "\u001b[0;31mNameError\u001b[0m                                 Traceback (most recent call last)",
            "\u001b[0;32m<ipython-input-3-db6dda56cc4d>\u001b[0m in \u001b[0;36m<cell line: 0>\u001b[0;34m()\u001b[0m\n\u001b[0;32m----> 1\u001b[0;31m \u001b[0mprit\u001b[0m\u001b[0;34m(\u001b[0m\u001b[0;34m\"welcome to Python world\"\u001b[0m\u001b[0;34m)\u001b[0m\u001b[0;34m\u001b[0m\u001b[0;34m\u001b[0m\u001b[0m\n\u001b[0m",
            "\u001b[0;31mNameError\u001b[0m: name 'prit' is not defined"
          ]
        }
      ],
      "source": [
        "prit(\"welcome to Python world\")"
      ]
    },
    {
      "cell_type": "code",
      "source": [
        "a = 20\n",
        "print(a)\n",
        "print(id(a))\n",
        "\n",
        "b=10\n",
        "print(b)\n",
        "print(\"b\",id(b))\n",
        "\n",
        "c=a\n",
        "print(c)\n",
        "print(id(c))"
      ],
      "metadata": {
        "colab": {
          "base_uri": "https://localhost:8080/"
        },
        "id": "y9t9dmh22q0A",
        "outputId": "345020fb-b0e6-4424-ca9f-680ddd0a5be9"
      },
      "execution_count": 1,
      "outputs": [
        {
          "output_type": "stream",
          "name": "stdout",
          "text": [
            "20\n",
            "10751464\n",
            "10\n",
            "b 10751144\n",
            "20\n",
            "10751464\n"
          ]
        }
      ]
    },
    {
      "cell_type": "code",
      "source": [
        "#dynamic\n",
        "a=10\n",
        "print(a)\n",
        "print(id(a))\n",
        "\n",
        "a=3.14\n",
        "print(a)\n",
        "print(id(a))\n",
        "\n",
        "a='NTT'\n",
        "print(a)\n",
        "print(id(a))"
      ],
      "metadata": {
        "id": "o4y1yGAOxkl6",
        "outputId": "a79644ed-9bf1-41d4-e764-638a09914b3f",
        "colab": {
          "base_uri": "https://localhost:8080/"
        }
      },
      "execution_count": 10,
      "outputs": [
        {
          "output_type": "stream",
          "name": "stdout",
          "text": [
            "10\n",
            "10751144\n",
            "3.14\n",
            "139280467976368\n",
            "NTT\n",
            "139280042594032\n"
          ]
        }
      ]
    },
    {
      "cell_type": "code",
      "source": [
        "#deleting a variable\n",
        "a=20\n",
        "print(a)\n",
        "\n",
        "del a\n",
        "print(a)"
      ],
      "metadata": {
        "id": "3PXIcpm30D_T",
        "outputId": "23bc03b4-a986-4513-9227-bd549050d03e",
        "colab": {
          "base_uri": "https://localhost:8080/",
          "height": 193
        }
      },
      "execution_count": 14,
      "outputs": [
        {
          "metadata": {
            "tags": null
          },
          "name": "stdout",
          "output_type": "stream",
          "text": [
            "20\n"
          ]
        },
        {
          "ename": "NameError",
          "evalue": "name 'a' is not defined",
          "output_type": "error",
          "traceback": [
            "\u001b[0;31m---------------------------------------------------------------------------\u001b[0m",
            "\u001b[0;31mNameError\u001b[0m                                 Traceback (most recent call last)",
            "\u001b[0;32m<ipython-input-14-e3df5781d077>\u001b[0m in \u001b[0;36m<cell line: 0>\u001b[0;34m()\u001b[0m\n\u001b[1;32m      4\u001b[0m \u001b[0;34m\u001b[0m\u001b[0m\n\u001b[1;32m      5\u001b[0m \u001b[0;32mdel\u001b[0m \u001b[0ma\u001b[0m\u001b[0;34m\u001b[0m\u001b[0;34m\u001b[0m\u001b[0m\n\u001b[0;32m----> 6\u001b[0;31m \u001b[0mprint\u001b[0m\u001b[0;34m(\u001b[0m\u001b[0ma\u001b[0m\u001b[0;34m)\u001b[0m\u001b[0;34m\u001b[0m\u001b[0;34m\u001b[0m\u001b[0m\n\u001b[0m",
            "\u001b[0;31mNameError\u001b[0m: name 'a' is not defined"
          ]
        }
      ]
    },
    {
      "cell_type": "markdown",
      "source": [],
      "metadata": {
        "id": "0edxp-RT1d2V"
      }
    },
    {
      "cell_type": "code",
      "source": [],
      "metadata": {
        "id": "lz1zPwKi1kpO"
      },
      "execution_count": null,
      "outputs": []
    },
    {
      "cell_type": "code",
      "source": [
        "#creating multiple variables\n",
        "a,b,c = 10, 3.14, 'NTT'\n",
        "print(a,b,c)"
      ],
      "metadata": {
        "id": "g-uB1rD10ndu",
        "outputId": "6eedc7c6-8816-4c49-82b5-2d2bd2d7f2ba",
        "colab": {
          "base_uri": "https://localhost:8080/"
        }
      },
      "execution_count": 13,
      "outputs": [
        {
          "output_type": "stream",
          "name": "stdout",
          "text": [
            "10 3.14 NTT\n"
          ]
        }
      ]
    },
    {
      "cell_type": "code",
      "source": [
        "#assigning  to single values to multiple\n",
        "a=b=c=12\n",
        "print(a,b,c)\n"
      ],
      "metadata": {
        "id": "QQ08Em3L034h",
        "outputId": "3309b854-ad8a-4ff7-9414-b557ea1e63f9",
        "colab": {
          "base_uri": "https://localhost:8080/"
        }
      },
      "execution_count": 12,
      "outputs": [
        {
          "output_type": "stream",
          "name": "stdout",
          "text": [
            "12 12 12\n"
          ]
        }
      ]
    },
    {
      "cell_type": "code",
      "source": [
        "#variable annotation\n",
        "a: int = 12\n",
        "print(a)\n",
        "\n",
        "print(__annotations__['a'])\n",
        "\n",
        "b: float = 12.12\n",
        "print(b)\n",
        "\n",
        "print(__annotations__['b'])\n",
        "\n",
        "c: str = 'ntt'\n",
        "print(c)\n",
        "\n",
        "print(__annotations__['c'])\n",
        "\n",
        "a=\"blt\"\n",
        "print(a)\n",
        "\n"
      ],
      "metadata": {
        "id": "NNC3c0a31nvT",
        "outputId": "5ebbfb8d-03d9-4c50-de26-a75fc445093d",
        "colab": {
          "base_uri": "https://localhost:8080/"
        }
      },
      "execution_count": 21,
      "outputs": [
        {
          "output_type": "stream",
          "name": "stdout",
          "text": [
            "12\n",
            "<class 'int'>\n",
            "12.12\n",
            "<class 'float'>\n",
            "ntt\n",
            "<class 'str'>\n",
            "blt\n"
          ]
        }
      ]
    },
    {
      "cell_type": "code",
      "source": [
        "import keyword\n",
        "\n",
        "print(keyword.kwlist)\n",
        "print(len(keyword.kwlist))\n"
      ],
      "metadata": {
        "id": "lCtB2QBh3LkO",
        "outputId": "a01cdc8e-d8c9-40b7-f2dc-a15655b272bb",
        "colab": {
          "base_uri": "https://localhost:8080/"
        }
      },
      "execution_count": 22,
      "outputs": [
        {
          "output_type": "stream",
          "name": "stdout",
          "text": [
            "['False', 'None', 'True', 'and', 'as', 'assert', 'async', 'await', 'break', 'class', 'continue', 'def', 'del', 'elif', 'else', 'except', 'finally', 'for', 'from', 'global', 'if', 'import', 'in', 'is', 'lambda', 'nonlocal', 'not', 'or', 'pass', 'raise', 'return', 'try', 'while', 'with', 'yield']\n",
            "35\n"
          ]
        }
      ]
    },
    {
      "cell_type": "code",
      "source": [
        "#single line comment\n",
        "#sdfgffgjm\n",
        "\n",
        "#multi line commenting\n",
        "'''asdf\n",
        "dsvcb\n",
        "dsfvb\n",
        "dcfvgb '''"
      ],
      "metadata": {
        "id": "zWaipCfr4JvH",
        "outputId": "acd03ea7-9f80-41c2-c52a-777107016f13",
        "colab": {
          "base_uri": "https://localhost:8080/",
          "height": 35
        }
      },
      "execution_count": 23,
      "outputs": [
        {
          "output_type": "execute_result",
          "data": {
            "text/plain": [
              "'asdf\\ndsvcb\\ndsfvb \\ndcfvgb '"
            ],
            "application/vnd.google.colaboratory.intrinsic+json": {
              "type": "string"
            }
          },
          "metadata": {},
          "execution_count": 23
        }
      ]
    },
    {
      "cell_type": "code",
      "source": [
        "#string\n",
        "#positive indexing\n",
        "s = \"code yug\"\n",
        "print(s[0:3:1])\n",
        "print(s[2:5])\n",
        "print(s[::])\n",
        "print(s[0:5:2])\n",
        "print(s[:4])\n",
        "print(s[::])\n",
        "print(s[0::3])\n",
        "print(s[0::2])\n",
        "print(s[0:0:1])"
      ],
      "metadata": {
        "id": "bWCZckb34Xk-",
        "outputId": "d2e6a8c2-1824-4f9b-f857-0c76686ccc34",
        "colab": {
          "base_uri": "https://localhost:8080/"
        }
      },
      "execution_count": 35,
      "outputs": [
        {
          "output_type": "stream",
          "name": "stdout",
          "text": [
            "cod\n",
            "de \n",
            "code yug\n",
            "cd \n",
            "code\n",
            "code yug\n",
            "ceu\n",
            "cd u\n",
            "\n"
          ]
        }
      ]
    },
    {
      "cell_type": "code",
      "source": [
        "#negative indexing\n",
        "s = \"code yug\"\n",
        "print(s[-1:-6:-1])\n",
        "print(s[-1:-6:-2])\n",
        "print(s[-2:-4:-2])\n",
        "print(s[-1:-6:-3])\n",
        "print(s[-3:-8:-2])\n",
        "print(s[::])\n",
        "print(s[::-1])\n",
        "print(s[-1::-1])\n",
        "print(s[:-9:-1])\n",
        "print(s[-1::])\n",
        "print(s[-1:-3:-1])\n",
        "print(s[-1:-4:-1])\n",
        "print(s[-1:-5:-1])\n"
      ],
      "metadata": {
        "id": "bpY3f12uG06x",
        "outputId": "df857691-55b5-47e6-e0ff-ec8f67ddd9a6",
        "colab": {
          "base_uri": "https://localhost:8080/"
        }
      },
      "execution_count": 58,
      "outputs": [
        {
          "output_type": "stream",
          "name": "stdout",
          "text": [
            "guy e\n",
            "gye\n",
            "u\n",
            "g \n",
            "yeo\n",
            "code yug\n",
            "guy edoc\n",
            "guy edoc\n",
            "guy edoc\n",
            "g\n",
            "gu\n",
            "guy\n",
            "guy \n"
          ]
        }
      ]
    },
    {
      "cell_type": "code",
      "source": [
        "s = \"bangalore\"\n",
        "print(s[-1:-4:-1])\n",
        "print(s[-1:-8:-2])\n",
        "print(s[-1:-4:-1])\n",
        "print(s[-2:-6:2])\n",
        "print(s[-1:-6:1])\n",
        "print(s[-1::-1])\n",
        "print(s[-1:-11])\n",
        "print(s[-1:-1:-1])"
      ],
      "metadata": {
        "id": "3fUBdpVaJ-JO",
        "outputId": "3631eb43-f3de-4c3d-e30b-c7f9c0251f96",
        "colab": {
          "base_uri": "https://localhost:8080/"
        }
      },
      "execution_count": 66,
      "outputs": [
        {
          "output_type": "stream",
          "name": "stdout",
          "text": [
            "ero\n",
            "eoan\n",
            "ero\n",
            "\n",
            "\n",
            "erolagnab\n",
            "\n",
            "\n"
          ]
        }
      ]
    },
    {
      "cell_type": "code",
      "source": [
        "s = \"Hello, world!\"\n",
        "print(s[7:12])\n",
        "print(s[5:12])\n",
        "print(s[:5])\n",
        "print(s[-6:-1])"
      ],
      "metadata": {
        "id": "_JeGS4RSNLJP",
        "outputId": "1694f900-b1f6-46e9-ab64-6b25abadc095",
        "colab": {
          "base_uri": "https://localhost:8080/"
        }
      },
      "execution_count": 69,
      "outputs": [
        {
          "output_type": "stream",
          "name": "stdout",
          "text": [
            "world\n",
            ", world\n",
            "Hello\n",
            "world\n"
          ]
        }
      ]
    },
    {
      "cell_type": "code",
      "source": [
        "text = \"Data Science\"\n",
        "print(text[-5:-1])\n",
        "\n",
        "text1 = \"Python\"\n",
        "print(text1[::-1])\n",
        "\n",
        "\n",
        "\n",
        "\n"
      ],
      "metadata": {
        "id": "NBwmmWs0Q3R1",
        "outputId": "9bc8795d-922a-404e-eb81-298c80a65eca",
        "colab": {
          "base_uri": "https://localhost:8080/"
        }
      },
      "execution_count": 71,
      "outputs": [
        {
          "output_type": "stream",
          "name": "stdout",
          "text": [
            "ienc\n",
            "nohtyP\n"
          ]
        }
      ]
    },
    {
      "cell_type": "markdown",
      "source": [],
      "metadata": {
        "id": "WsRJUVd12pmn"
      }
    },
    {
      "cell_type": "code",
      "source": [
        "print(\"bhagya\")"
      ],
      "metadata": {
        "colab": {
          "base_uri": "https://localhost:8080/"
        },
        "id": "J1DZOCJby6Sy",
        "outputId": "68414622-8cdb-4f1b-f5fe-f43a6a73fee9"
      },
      "execution_count": null,
      "outputs": [
        {
          "output_type": "stream",
          "name": "stdout",
          "text": [
            "bhagya\n"
          ]
        }
      ]
    },
    {
      "cell_type": "code",
      "source": [
        "2+3"
      ],
      "metadata": {
        "colab": {
          "base_uri": "https://localhost:8080/"
        },
        "id": "456iibnZml4b",
        "outputId": "98005d39-dad6-427f-90f5-a6fad527d64b"
      },
      "execution_count": null,
      "outputs": [
        {
          "output_type": "execute_result",
          "data": {
            "text/plain": [
              "5"
            ]
          },
          "metadata": {},
          "execution_count": 2
        }
      ]
    }
  ]
}