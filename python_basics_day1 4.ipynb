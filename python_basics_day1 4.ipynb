{
  "nbformat": 4,
  "nbformat_minor": 0,
  "metadata": {
    "colab": {
      "provenance": [],
      "include_colab_link": true
    },
    "kernelspec": {
      "name": "python3",
      "display_name": "Python 3"
    },
    "language_info": {
      "name": "python"
    }
  },
  "cells": [
    {
      "cell_type": "markdown",
      "metadata": {
        "id": "view-in-github",
        "colab_type": "text"
      },
      "source": [
        "<a href=\"https://colab.research.google.com/github/bhagyashree28032001/Python-training/blob/main/python_basics_day1%204.ipynb\" target=\"_parent\"><img src=\"https://colab.research.google.com/assets/colab-badge.svg\" alt=\"Open In Colab\"/></a>"
      ]
    },
    {
      "cell_type": "code",
      "execution_count": 1,
      "metadata": {
        "colab": {
          "base_uri": "https://localhost:8080/",
          "height": 141
        },
        "id": "fooBKl8FmcO4",
        "outputId": "44da3542-1898-4705-ccdb-ec0d9d0a22d5"
      },
      "outputs": [
        {
          "output_type": "error",
          "ename": "NameError",
          "evalue": "name 'prit' is not defined",
          "traceback": [
            "\u001b[0;31m---------------------------------------------------------------------------\u001b[0m",
            "\u001b[0;31mNameError\u001b[0m                                 Traceback (most recent call last)",
            "\u001b[0;32m<ipython-input-1-db6dda56cc4d>\u001b[0m in \u001b[0;36m<cell line: 0>\u001b[0;34m()\u001b[0m\n\u001b[0;32m----> 1\u001b[0;31m \u001b[0mprit\u001b[0m\u001b[0;34m(\u001b[0m\u001b[0;34m\"welcome to Python world\"\u001b[0m\u001b[0;34m)\u001b[0m\u001b[0;34m\u001b[0m\u001b[0;34m\u001b[0m\u001b[0m\n\u001b[0m",
            "\u001b[0;31mNameError\u001b[0m: name 'prit' is not defined"
          ]
        }
      ],
      "source": [
        "prit(\"welcome to Python world\")"
      ]
    },
    {
      "cell_type": "code",
      "source": [
        "a = 20\n",
        "print(a)\n",
        "print(id(a))\n",
        "\n",
        "b=10\n",
        "print(b)\n",
        "print(\"b\",id(b))\n",
        "\n",
        "c=a\n",
        "print(c)\n",
        "print(id(c))"
      ],
      "metadata": {
        "colab": {
          "base_uri": "https://localhost:8080/"
        },
        "id": "y9t9dmh22q0A",
        "outputId": "6e89f737-6795-43cf-ff15-bc051329e5d8"
      },
      "execution_count": 2,
      "outputs": [
        {
          "output_type": "stream",
          "name": "stdout",
          "text": [
            "20\n",
            "10751464\n",
            "10\n",
            "b 10751144\n",
            "20\n",
            "10751464\n"
          ]
        }
      ]
    },
    {
      "cell_type": "code",
      "source": [
        "#dynamic\n",
        "a=10\n",
        "print(a)\n",
        "print(id(a))\n",
        "\n",
        "a=3.14\n",
        "print(a)\n",
        "print(id(a))\n",
        "\n",
        "a='NTT'\n",
        "print(a)\n",
        "print(id(a))"
      ],
      "metadata": {
        "id": "o4y1yGAOxkl6",
        "outputId": "f8df3688-21be-4aa5-aecc-659442e772bb",
        "colab": {
          "base_uri": "https://localhost:8080/"
        }
      },
      "execution_count": 3,
      "outputs": [
        {
          "output_type": "stream",
          "name": "stdout",
          "text": [
            "10\n",
            "10751144\n",
            "3.14\n",
            "139110048520048\n",
            "NTT\n",
            "139109652743856\n"
          ]
        }
      ]
    },
    {
      "cell_type": "code",
      "source": [
        "#deleting a variable\n",
        "a=20\n",
        "print(a)\n",
        "\n",
        "del a\n",
        "print(a)"
      ],
      "metadata": {
        "id": "3PXIcpm30D_T",
        "outputId": "8546147b-c420-4b90-bfbf-0a9f6eab8701",
        "colab": {
          "base_uri": "https://localhost:8080/",
          "height": 193
        }
      },
      "execution_count": 4,
      "outputs": [
        {
          "output_type": "stream",
          "name": "stdout",
          "text": [
            "20\n"
          ]
        },
        {
          "output_type": "error",
          "ename": "NameError",
          "evalue": "name 'a' is not defined",
          "traceback": [
            "\u001b[0;31m---------------------------------------------------------------------------\u001b[0m",
            "\u001b[0;31mNameError\u001b[0m                                 Traceback (most recent call last)",
            "\u001b[0;32m<ipython-input-4-e3df5781d077>\u001b[0m in \u001b[0;36m<cell line: 0>\u001b[0;34m()\u001b[0m\n\u001b[1;32m      4\u001b[0m \u001b[0;34m\u001b[0m\u001b[0m\n\u001b[1;32m      5\u001b[0m \u001b[0;32mdel\u001b[0m \u001b[0ma\u001b[0m\u001b[0;34m\u001b[0m\u001b[0;34m\u001b[0m\u001b[0m\n\u001b[0;32m----> 6\u001b[0;31m \u001b[0mprint\u001b[0m\u001b[0;34m(\u001b[0m\u001b[0ma\u001b[0m\u001b[0;34m)\u001b[0m\u001b[0;34m\u001b[0m\u001b[0;34m\u001b[0m\u001b[0m\n\u001b[0m",
            "\u001b[0;31mNameError\u001b[0m: name 'a' is not defined"
          ]
        }
      ]
    },
    {
      "cell_type": "markdown",
      "source": [],
      "metadata": {
        "id": "0edxp-RT1d2V"
      }
    },
    {
      "cell_type": "code",
      "source": [],
      "metadata": {
        "id": "lz1zPwKi1kpO"
      },
      "execution_count": null,
      "outputs": []
    },
    {
      "cell_type": "code",
      "source": [
        "#creating multiple variables\n",
        "a,b,c = 10, 3.14, 'NTT'\n",
        "print(a,b,c)"
      ],
      "metadata": {
        "id": "g-uB1rD10ndu"
      },
      "execution_count": null,
      "outputs": []
    },
    {
      "cell_type": "code",
      "source": [
        "#assigning  to single values to multiple\n",
        "a=b=c=12\n",
        "print(a,b,c)\n"
      ],
      "metadata": {
        "id": "QQ08Em3L034h"
      },
      "execution_count": null,
      "outputs": []
    },
    {
      "cell_type": "code",
      "source": [
        "#variable annotation\n",
        "a: int = 12\n",
        "print(a)\n",
        "\n",
        "print(__annotations__['a'])\n",
        "\n",
        "b: float = 12.12\n",
        "print(b)\n",
        "\n",
        "print(__annotations__['b'])\n",
        "\n",
        "c: str = 'ntt'\n",
        "print(c)\n",
        "\n",
        "print(__annotations__['c'])\n",
        "\n",
        "a=\"blt\"\n",
        "print(a)\n",
        "\n"
      ],
      "metadata": {
        "id": "NNC3c0a31nvT"
      },
      "execution_count": null,
      "outputs": []
    },
    {
      "cell_type": "code",
      "source": [
        "import keyword\n",
        "\n",
        "print(keyword.kwlist)\n",
        "print(len(keyword.kwlist))\n"
      ],
      "metadata": {
        "id": "lCtB2QBh3LkO"
      },
      "execution_count": null,
      "outputs": []
    },
    {
      "cell_type": "code",
      "source": [
        "#single line comment\n",
        "#sdfgffgjm\n",
        "\n",
        "#multi line commenting\n",
        "'''asdf\n",
        "dsvcb\n",
        "dsfvb\n",
        "dcfvgb '''"
      ],
      "metadata": {
        "id": "zWaipCfr4JvH",
        "outputId": "f84313e6-6129-4228-85e4-c021553d1adf",
        "colab": {
          "base_uri": "https://localhost:8080/",
          "height": 35
        }
      },
      "execution_count": 5,
      "outputs": [
        {
          "output_type": "execute_result",
          "data": {
            "text/plain": [
              "'asdf\\ndsvcb\\ndsfvb\\ndcfvgb '"
            ],
            "application/vnd.google.colaboratory.intrinsic+json": {
              "type": "string"
            }
          },
          "metadata": {},
          "execution_count": 5
        }
      ]
    },
    {
      "cell_type": "code",
      "source": [
        "#string\n",
        "#positive indexing\n",
        "s = \"code yug\"\n",
        "print(s[0:3:1])\n",
        "print(s[2:5])\n",
        "print(s[::])\n",
        "print(s[0:5:2])\n",
        "print(s[:4])\n",
        "print(s[::])\n",
        "print(s[0::3])\n",
        "print(s[0::2])\n",
        "print(s[0:0:1])"
      ],
      "metadata": {
        "id": "bWCZckb34Xk-",
        "outputId": "fdfca525-65c0-40e4-93ac-6c6054a33f8b",
        "colab": {
          "base_uri": "https://localhost:8080/"
        }
      },
      "execution_count": 6,
      "outputs": [
        {
          "output_type": "stream",
          "name": "stdout",
          "text": [
            "cod\n",
            "de \n",
            "code yug\n",
            "cd \n",
            "code\n",
            "code yug\n",
            "ceu\n",
            "cd u\n",
            "\n"
          ]
        }
      ]
    },
    {
      "cell_type": "code",
      "source": [
        "#negative indexing\n",
        "s = \"code yug\"\n",
        "print(s[-1:-6:-1])\n",
        "print(s[-1:-6:-2])\n",
        "print(s[-2:-4:-2])\n",
        "print(s[-1:-6:-3])\n",
        "print(s[-3:-8:-2])\n",
        "print(s[::])\n",
        "print(s[::-1])\n",
        "print(s[-1::-1])\n",
        "print(s[:-9:-1])\n",
        "print(s[-1::])\n",
        "print(s[-1:-3:-1])\n",
        "print(s[-1:-4:-1])\n",
        "print(s[-1:-5:-1])\n"
      ],
      "metadata": {
        "id": "bpY3f12uG06x",
        "outputId": "8af6dd44-a678-4406-93c6-ebeafb7ec917",
        "colab": {
          "base_uri": "https://localhost:8080/"
        }
      },
      "execution_count": 7,
      "outputs": [
        {
          "output_type": "stream",
          "name": "stdout",
          "text": [
            "guy e\n",
            "gye\n",
            "u\n",
            "g \n",
            "yeo\n",
            "code yug\n",
            "guy edoc\n",
            "guy edoc\n",
            "guy edoc\n",
            "g\n",
            "gu\n",
            "guy\n",
            "guy \n"
          ]
        }
      ]
    },
    {
      "cell_type": "code",
      "source": [
        "s = \"bangalore\"\n",
        "print(s[-1:-4:-1])\n",
        "print(s[-1:-8:-2])\n",
        "print(s[-1:-4:-1])\n",
        "print(s[-2:-6:2])\n",
        "print(s[-1:-6:1])\n",
        "print(s[-1::-1])\n",
        "print(s[-1:-11])\n",
        "print(s[-1:-1:-1])"
      ],
      "metadata": {
        "id": "3fUBdpVaJ-JO",
        "outputId": "74857ad7-2c28-4931-cd36-dd30c25b7cc3",
        "colab": {
          "base_uri": "https://localhost:8080/"
        }
      },
      "execution_count": 8,
      "outputs": [
        {
          "output_type": "stream",
          "name": "stdout",
          "text": [
            "ero\n",
            "eoan\n",
            "ero\n",
            "\n",
            "\n",
            "erolagnab\n",
            "\n",
            "\n"
          ]
        }
      ]
    },
    {
      "cell_type": "code",
      "source": [
        "s = \"Hello, world!\"\n",
        "print(s[7:12])\n",
        "print(s[5:12])\n",
        "print(s[:5])\n",
        "print(s[-6:-1])"
      ],
      "metadata": {
        "id": "_JeGS4RSNLJP",
        "outputId": "ceaaec5e-5fbb-4380-af1e-9f41f50b922c",
        "colab": {
          "base_uri": "https://localhost:8080/"
        }
      },
      "execution_count": 9,
      "outputs": [
        {
          "output_type": "stream",
          "name": "stdout",
          "text": [
            "world\n",
            ", world\n",
            "Hello\n",
            "world\n"
          ]
        }
      ]
    },
    {
      "cell_type": "code",
      "source": [
        "text = \"Data Science\"\n",
        "print(text[-5:-1])\n",
        "\n",
        "text1 = \"Python\"\n",
        "print(text1[::-1])\n",
        "\n",
        "\n",
        "\n",
        "\n"
      ],
      "metadata": {
        "id": "NBwmmWs0Q3R1",
        "outputId": "56b7f523-5fd6-4fbf-b292-e566b1d17b9f",
        "colab": {
          "base_uri": "https://localhost:8080/"
        }
      },
      "execution_count": 10,
      "outputs": [
        {
          "output_type": "stream",
          "name": "stdout",
          "text": [
            "ienc\n",
            "nohtyP\n"
          ]
        }
      ]
    },
    {
      "cell_type": "markdown",
      "source": [],
      "metadata": {
        "id": "WsRJUVd12pmn"
      }
    },
    {
      "cell_type": "code",
      "source": [
        "print(\"bhagya\")"
      ],
      "metadata": {
        "colab": {
          "base_uri": "https://localhost:8080/"
        },
        "id": "J1DZOCJby6Sy",
        "outputId": "c1f1ff51-a00d-457f-a587-a7f3c6c9f491"
      },
      "execution_count": 11,
      "outputs": [
        {
          "output_type": "stream",
          "name": "stdout",
          "text": [
            "bhagya\n"
          ]
        }
      ]
    },
    {
      "cell_type": "code",
      "source": [
        "2+3"
      ],
      "metadata": {
        "colab": {
          "base_uri": "https://localhost:8080/"
        },
        "id": "456iibnZml4b",
        "outputId": "9228c628-d44a-4ef0-f5ea-b306750a915b"
      },
      "execution_count": 12,
      "outputs": [
        {
          "output_type": "execute_result",
          "data": {
            "text/plain": [
              "5"
            ]
          },
          "metadata": {},
          "execution_count": 12
        }
      ]
    },
    {
      "cell_type": "code",
      "source": [
        "a = 10\n",
        "print(a)\n",
        "print(\"a=\",id(a))\n",
        "\n",
        "b=10\n",
        "print(b)\n",
        "print(\"b=\",id(b))\n",
        "\n",
        "c=a\n",
        "print(c)\n",
        "print(\"c=\",id(c))"
      ],
      "metadata": {
        "id": "-IwVdJ52BKD4",
        "colab": {
          "base_uri": "https://localhost:8080/"
        },
        "outputId": "78298902-2cca-4aac-daf7-259e97d0dcb6"
      },
      "execution_count": 13,
      "outputs": [
        {
          "output_type": "stream",
          "name": "stdout",
          "text": [
            "10\n",
            "a= 10751144\n",
            "10\n",
            "b= 10751144\n",
            "10\n",
            "c= 10751144\n"
          ]
        }
      ]
    },
    {
      "cell_type": "code",
      "source": [
        "#day3\n",
        "\n",
        "# simple if statement\n",
        "\n",
        "if 10>5:\n",
        "  print(\"10 is greater than 5\")\n",
        "  print(\" i am inside if bloxk\")\n",
        "  print(\"still i am inside if block\")\n",
        "  print(\"i am outside if block\")\n"
      ],
      "metadata": {
        "id": "u7yeSAzoBU2X",
        "colab": {
          "base_uri": "https://localhost:8080/"
        },
        "outputId": "e1454941-d04f-4495-ae92-3e69ba837a7a"
      },
      "execution_count": 14,
      "outputs": [
        {
          "output_type": "stream",
          "name": "stdout",
          "text": [
            "10 is greater than 5\n",
            " i am inside if bloxk\n",
            "still i am inside if block\n",
            "i am outside if block\n"
          ]
        }
      ]
    },
    {
      "cell_type": "code",
      "source": [
        "# input statement\n",
        "\n",
        "name = input(\" enter your name\")\n",
        "print(\"your name is\",name)"
      ],
      "metadata": {
        "id": "MW-ZqrajBX7P",
        "colab": {
          "base_uri": "https://localhost:8080/"
        },
        "outputId": "0921e61b-f60d-4451-aa63-84df62ee31f1"
      },
      "execution_count": 15,
      "outputs": [
        {
          "output_type": "stream",
          "name": "stdout",
          "text": [
            " enter your namebhagya\n",
            "your name is bhagya\n"
          ]
        }
      ]
    },
    {
      "cell_type": "code",
      "source": [
        "no1 = int(input(\" enter the first no\"))\n",
        "no2 = int(input(\"enter the 2nd number\"))\n",
        "\n",
        "if no1 > no2:\n",
        "  print(\"no1 is greater\")"
      ],
      "metadata": {
        "id": "pwJFosczBdPt",
        "colab": {
          "base_uri": "https://localhost:8080/"
        },
        "outputId": "55fbce1b-cca3-49af-a89f-0d8db76be081"
      },
      "execution_count": 17,
      "outputs": [
        {
          "name": "stdout",
          "output_type": "stream",
          "text": [
            " enter the first no12\n",
            "enter the 2nd number23\n"
          ]
        }
      ]
    },
    {
      "cell_type": "markdown",
      "source": [],
      "metadata": {
        "id": "j_MKgl27BfY7"
      }
    },
    {
      "cell_type": "code",
      "source": [
        "no1 = float(input(\" enter the first no\"))\n",
        "no2 = float(input(\"enter the 2nd number\"))\n",
        "print(no1+no2)"
      ],
      "metadata": {
        "id": "MZhVPHe7BgAR"
      },
      "execution_count": null,
      "outputs": []
    },
    {
      "cell_type": "code",
      "source": [
        "age = int(input(\"enter your age\"))\n",
        "\n",
        "if age >= 18 :\n",
        "  print(\"welcome to vote\")\n",
        "  print(\"you can vote\")\n",
        "else:\n",
        "  print(\"you cannot vote\")\n",
        "\n",
        "print(\"Thank you\")"
      ],
      "metadata": {
        "id": "pgMgLSgKBm9C"
      },
      "execution_count": null,
      "outputs": []
    },
    {
      "cell_type": "code",
      "source": [
        "a = int ( input(\"enter a no\"))\n",
        "\n",
        "if a % 2 == 0 :\n",
        "  print(\" even no\")\n",
        "else:\n",
        "  print(\"odd\")"
      ],
      "metadata": {
        "id": "iNFkaFm5BnqA"
      },
      "execution_count": null,
      "outputs": []
    },
    {
      "cell_type": "code",
      "source": [
        "#  if elif else\n",
        "\n",
        "grade = int(input(\"enter your score\"))\n",
        "\n",
        "if grade >= 90:\n",
        "  print(\"A grade\")\n",
        "elif grade >= 80:\n",
        "  print(\"B grade\")\n",
        "elif grade >= 70:\n",
        "  print(\"c grade\")\n",
        "\n",
        "else:\n",
        "  print(\"fail\")"
      ],
      "metadata": {
        "id": "3n3VR6ySBrD-"
      },
      "execution_count": null,
      "outputs": []
    },
    {
      "cell_type": "code",
      "source": [
        "# nested if\n",
        "\n",
        "num = int(input(\"enetr a no\"))\n",
        "\n",
        "if num > 0 :\n",
        "  print(\"numer is a positive number\")\n",
        "  if num%2 == 0:\n",
        "    print(\"number is even\")\n",
        "  else:\n",
        "    print(\"number is odd\")\n",
        "else:\n",
        "  print(\"negative number\")"
      ],
      "metadata": {
        "id": "fgUh1QkFBvyz"
      },
      "execution_count": null,
      "outputs": []
    },
    {
      "cell_type": "code",
      "source": [
        "# while loop\n",
        "\n",
        "i=2\n",
        "\n",
        "while i<=5:\n",
        "  print(i)\n",
        "  i =i+1"
      ],
      "metadata": {
        "id": "L1yA03dGB3EH"
      },
      "execution_count": null,
      "outputs": []
    },
    {
      "cell_type": "code",
      "source": [
        "# multiplication table\n",
        "\n",
        "num = int(input(\"enter the table no\"))\n",
        "\n",
        "i=1\n",
        "\n",
        "while i <=10:\n",
        "  print(i*num)\n",
        "  i=i+1"
      ],
      "metadata": {
        "id": "VL5L0op5B6VM"
      },
      "execution_count": null,
      "outputs": []
    },
    {
      "cell_type": "code",
      "source": [
        "i= 1\n",
        "while i <= 100:\n",
        "  print(i)\n",
        "  i+=2\n"
      ],
      "metadata": {
        "id": "zLMDXI-qB93L"
      },
      "execution_count": null,
      "outputs": []
    },
    {
      "cell_type": "code",
      "source": [
        "# for loop\n",
        "\n",
        "for i in \"Good\" :\n",
        "  print(\"Ntt data\")"
      ],
      "metadata": {
        "id": "qMJUzy_PCGNR"
      },
      "execution_count": null,
      "outputs": []
    },
    {
      "cell_type": "code",
      "source": [
        "v = ['a','e','i','o','u']\n",
        "\n",
        "st = \"bangalore\"\n",
        "counter= 0\n",
        "\n",
        "for i in \"bangalore\":\n",
        "  if i in v:\n",
        "    counter = counter + 1\n",
        "\n",
        "print(counter)\n"
      ],
      "metadata": {
        "id": "TkzvPSNYCKIa"
      },
      "execution_count": null,
      "outputs": []
    },
    {
      "cell_type": "code",
      "source": [
        "str = input(\"enter a string:\")\n",
        "print(str[::-1])"
      ],
      "metadata": {
        "id": "bfpLwMPpCKx4"
      },
      "execution_count": null,
      "outputs": []
    },
    {
      "cell_type": "code",
      "source": [
        "str = input(\"enter a string:\")\n",
        "rev = str[::-1]\n",
        "print(rev)\n",
        "\n",
        "if str==rev:\n",
        "  print(\"palindrome\")\n",
        "else:\n",
        "  print(\"not palindrome\")"
      ],
      "metadata": {
        "id": "SXmSICJIzOyM"
      },
      "execution_count": null,
      "outputs": []
    },
    {
      "cell_type": "code",
      "source": [],
      "metadata": {
        "id": "4z0nRDBa19wX"
      },
      "execution_count": null,
      "outputs": []
    },
    {
      "cell_type": "code",
      "source": [
        "#nested for loop\n",
        "for i in \"blr\":\n",
        "  print(\"outer loop\")\n",
        "  for j in [10,20,30]:\n",
        "    print(\"inner loop\")\n",
        "    print(i,j)"
      ],
      "metadata": {
        "id": "Vq13Eafx0_f0"
      },
      "execution_count": null,
      "outputs": []
    },
    {
      "cell_type": "code",
      "source": [
        "for i in \"bangalore\":\n",
        "  print(i)\n",
        "  if i == 'o':\n",
        "    break\n",
        "print(\"end of loop\")\n"
      ],
      "metadata": {
        "id": "eV9WdBK34trO"
      },
      "execution_count": null,
      "outputs": []
    },
    {
      "cell_type": "code",
      "source": [
        "#concatenation using + operator\n",
        "\n",
        "s1=\"apple\"\n",
        "s2=\"banana\"\n",
        "print(s1+s2)"
      ],
      "metadata": {
        "id": "ArBwh0vd9Ntg"
      },
      "execution_count": null,
      "outputs": []
    },
    {
      "cell_type": "code",
      "source": [
        "#concatenation using * operator\n",
        "\n",
        "s1=\"apple\"\n",
        "s2=\"banana\"\n",
        "print(s1*2)\n",
        "print(s2*2)"
      ],
      "metadata": {
        "id": "Qb39JpGd9mJx"
      },
      "execution_count": null,
      "outputs": []
    },
    {
      "cell_type": "code",
      "source": [
        "#string is immutable\n",
        "s1 = \"apple\"\n",
        "print(s1)\n",
        "s1[0] =\"A\"\n",
        "print(s1)"
      ],
      "metadata": {
        "id": "6-RFA8xX99FR"
      },
      "execution_count": null,
      "outputs": []
    },
    {
      "cell_type": "code",
      "source": [
        "#deletion\n",
        "s1 = \"apple\"\n",
        "print(s1)\n",
        "del s1\n",
        "#print(s1)"
      ],
      "metadata": {
        "id": "eicaEPsa-U-r"
      },
      "execution_count": null,
      "outputs": []
    },
    {
      "cell_type": "code",
      "source": [
        "# length of the string\n",
        "s1 = input(\"enter a string:\")\n",
        "print(len(s1))"
      ],
      "metadata": {
        "id": "m7JFtU1L-our"
      },
      "execution_count": null,
      "outputs": []
    },
    {
      "cell_type": "code",
      "source": [
        "# count method\n",
        "s1 = \" i am good, i taught you also good\"\n",
        "c = s1.count(\"good\", 20)\n",
        "print(c)\n"
      ],
      "metadata": {
        "id": "9CbSRX7R_USb"
      },
      "execution_count": null,
      "outputs": []
    },
    {
      "cell_type": "code",
      "source": [
        "s1 = \"india is big india culture is good\"\n",
        "c = s1.count(\"india\", 2,20)\n",
        "print(c)"
      ],
      "metadata": {
        "id": "Beji5ytDAoRj"
      },
      "execution_count": null,
      "outputs": []
    },
    {
      "cell_type": "code",
      "source": [
        "#startswith method\n",
        "mainstring = input(\"enter the main string:\")\n",
        "substring = input(\"enter the substring:\")\n",
        "print(mainstring.startswith(substring))\n",
        "\n",
        "if mainstring.startswith(substring):\n",
        "  print(\"yes substring is available\")\n",
        "else:\n",
        "  print(\"no not available\")"
      ],
      "metadata": {
        "id": "SkIGFmI1BI5_"
      },
      "execution_count": null,
      "outputs": []
    },
    {
      "cell_type": "code",
      "source": [
        "str = input(\"enter a string:\")\n",
        "if str.startswith(\"I\"):\n",
        "  print(\"India\")\n",
        "elif str.endswith(\"an\"):\n",
        "  print(\"pak\")\n",
        "else:\n",
        "  print(\"australia\")\n"
      ],
      "metadata": {
        "id": "_q2rcLngGUMy"
      },
      "execution_count": null,
      "outputs": []
    },
    {
      "cell_type": "code",
      "source": [],
      "metadata": {
        "id": "Tm08XcANIJm_"
      },
      "execution_count": null,
      "outputs": []
    },
    {
      "cell_type": "code",
      "source": [
        "str = input(\"enter a url\")\n",
        "if str.endswith(\".com\"):\n",
        "  print(\"commercial website\")\n",
        "elif str.endswith(\".edu\"):\n",
        "  print(\"educational website\")\n",
        "elif str.startswith(\"www\"):\n",
        "  print(\"website\")\n",
        "\n",
        "else:\n",
        "  print(\"not website\")"
      ],
      "metadata": {
        "id": "b3j6JXEdGk01"
      },
      "execution_count": null,
      "outputs": []
    },
    {
      "cell_type": "code",
      "source": [
        "#lstrip\n",
        "\n",
        "name = input(\"enter name:\")\n",
        "print(name)\n",
        "\n",
        "name = name.lstrip()\n",
        "print(name)"
      ],
      "metadata": {
        "id": "Yf8mWgByILIl"
      },
      "execution_count": null,
      "outputs": []
    },
    {
      "cell_type": "code",
      "source": [
        "url= [\"http://www.myntra.com\", \"http://www.ajio.com\", \"http://www.amazon.com\"]\n",
        "for i in url:\n",
        "  #i = i.lstrip(\"http://www.\")\n",
        "  #i = i.lstrip(\"htp:/w.\")\n",
        "  i=i.lstrip(\"hytp/w.\")\n",
        "  print(i)"
      ],
      "metadata": {
        "id": "kjg-RrwvI7Zu"
      },
      "execution_count": null,
      "outputs": []
    },
    {
      "cell_type": "code",
      "source": [
        "#lstrip\n",
        "\n",
        "l=[\"http://www.myntra.com\",\"http://www.ntt.com\",\"http://www.google.com\"]\n",
        "for i in l:\n",
        "  print(i.lstrip(\"http://www.\"))\n",
        "for j in l:\n",
        "  print(j.lstrip(\"hp:/w.\"))"
      ],
      "metadata": {
        "colab": {
          "base_uri": "https://localhost:8080/"
        },
        "id": "FbvNcEtvL1JE",
        "outputId": "1a5e2956-d929-4318-a3ab-89e0ec133104"
      },
      "execution_count": 18,
      "outputs": [
        {
          "output_type": "stream",
          "name": "stdout",
          "text": [
            "myntra.com\n",
            "ntt.com\n",
            "google.com\n",
            "ttp://www.myntra.com\n",
            "ttp://www.ntt.com\n",
            "ttp://www.google.com\n"
          ]
        }
      ]
    },
    {
      "cell_type": "code",
      "source": [
        "url= [\"http://www.myntra.com\", \"http://www.ajio.com\", \"http://www.amazon.com\"]\n",
        "for i in url:\n",
        "  #i = i.lstrip(\"http://www.\")\n",
        "  #i = i.lstrip(\"htp:/w.\")\n",
        "  i=i.lstrip(\"hp/w.\")\n",
        "  print(i)"
      ],
      "metadata": {
        "id": "AP3P26jFOseS",
        "outputId": "2099402c-3496-497b-fc13-7a9a7cc691b8",
        "colab": {
          "base_uri": "https://localhost:8080/"
        }
      },
      "execution_count": 19,
      "outputs": [
        {
          "output_type": "stream",
          "name": "stdout",
          "text": [
            "ttp://www.myntra.com\n",
            "ttp://www.ajio.com\n",
            "ttp://www.amazon.com\n"
          ]
        }
      ]
    },
    {
      "cell_type": "code",
      "source": [
        "url= [\"http://www.myntra.com\", \"http://www.ajio.com\", \"http://www.amazon.com\"]\n",
        "for i in url:\n",
        "  #i = i.lstrip(\"http://www.\")\n",
        "  #i = i.lstrip(\"htp:/w.\")\n",
        "  i=i.lstrip('htp.com')\n",
        "  print(i)"
      ],
      "metadata": {
        "id": "p5wnoe7RO0Og",
        "outputId": "3effd030-fceb-40e1-95c4-2e881a6b6f88",
        "colab": {
          "base_uri": "https://localhost:8080/"
        }
      },
      "execution_count": 21,
      "outputs": [
        {
          "output_type": "stream",
          "name": "stdout",
          "text": [
            "://www.myntra.com\n",
            "://www.ajio.com\n",
            "://www.amazon.com\n"
          ]
        }
      ]
    }
  ]
}