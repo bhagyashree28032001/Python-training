{
  "nbformat": 4,
  "nbformat_minor": 0,
  "metadata": {
    "colab": {
      "provenance": [],
      "include_colab_link": true
    },
    "kernelspec": {
      "name": "python3",
      "display_name": "Python 3"
    },
    "language_info": {
      "name": "python"
    }
  },
  "cells": [
    {
      "cell_type": "markdown",
      "metadata": {
        "id": "view-in-github",
        "colab_type": "text"
      },
      "source": [
        "<a href=\"https://colab.research.google.com/github/bhagyashree28032001/Python-training/blob/main/python_basics_day1%204.ipynb\" target=\"_parent\"><img src=\"https://colab.research.google.com/assets/colab-badge.svg\" alt=\"Open In Colab\"/></a>"
      ]
    },
    {
      "cell_type": "code",
      "execution_count": null,
      "metadata": {
        "colab": {
          "base_uri": "https://localhost:8080/",
          "height": 141
        },
        "id": "fooBKl8FmcO4",
        "outputId": "44da3542-1898-4705-ccdb-ec0d9d0a22d5"
      },
      "outputs": [
        {
          "output_type": "error",
          "ename": "NameError",
          "evalue": "name 'prit' is not defined",
          "traceback": [
            "\u001b[0;31m---------------------------------------------------------------------------\u001b[0m",
            "\u001b[0;31mNameError\u001b[0m                                 Traceback (most recent call last)",
            "\u001b[0;32m<ipython-input-1-db6dda56cc4d>\u001b[0m in \u001b[0;36m<cell line: 0>\u001b[0;34m()\u001b[0m\n\u001b[0;32m----> 1\u001b[0;31m \u001b[0mprit\u001b[0m\u001b[0;34m(\u001b[0m\u001b[0;34m\"welcome to Python world\"\u001b[0m\u001b[0;34m)\u001b[0m\u001b[0;34m\u001b[0m\u001b[0;34m\u001b[0m\u001b[0m\n\u001b[0m",
            "\u001b[0;31mNameError\u001b[0m: name 'prit' is not defined"
          ]
        }
      ],
      "source": [
        "prit(\"welcome to Python world\")"
      ]
    },
    {
      "cell_type": "code",
      "source": [
        "a = 20\n",
        "print(a)\n",
        "print(id(a))\n",
        "\n",
        "b=10\n",
        "print(b)\n",
        "print(\"b\",id(b))\n",
        "\n",
        "c=a\n",
        "print(c)\n",
        "print(id(c))"
      ],
      "metadata": {
        "colab": {
          "base_uri": "https://localhost:8080/"
        },
        "id": "y9t9dmh22q0A",
        "outputId": "6e89f737-6795-43cf-ff15-bc051329e5d8"
      },
      "execution_count": null,
      "outputs": [
        {
          "output_type": "stream",
          "name": "stdout",
          "text": [
            "20\n",
            "10751464\n",
            "10\n",
            "b 10751144\n",
            "20\n",
            "10751464\n"
          ]
        }
      ]
    },
    {
      "cell_type": "code",
      "source": [
        "#dynamic\n",
        "a=10\n",
        "print(a)\n",
        "print(id(a))\n",
        "\n",
        "a=3.14\n",
        "print(a)\n",
        "print(id(a))\n",
        "\n",
        "a='NTT'\n",
        "print(a)\n",
        "print(id(a))"
      ],
      "metadata": {
        "id": "o4y1yGAOxkl6",
        "outputId": "f8df3688-21be-4aa5-aecc-659442e772bb",
        "colab": {
          "base_uri": "https://localhost:8080/"
        }
      },
      "execution_count": null,
      "outputs": [
        {
          "output_type": "stream",
          "name": "stdout",
          "text": [
            "10\n",
            "10751144\n",
            "3.14\n",
            "139110048520048\n",
            "NTT\n",
            "139109652743856\n"
          ]
        }
      ]
    },
    {
      "cell_type": "code",
      "source": [
        "#deleting a variable\n",
        "a=20\n",
        "print(a)\n",
        "\n",
        "del a\n",
        "print(a)"
      ],
      "metadata": {
        "id": "3PXIcpm30D_T",
        "outputId": "8546147b-c420-4b90-bfbf-0a9f6eab8701",
        "colab": {
          "base_uri": "https://localhost:8080/",
          "height": 193
        }
      },
      "execution_count": null,
      "outputs": [
        {
          "output_type": "stream",
          "name": "stdout",
          "text": [
            "20\n"
          ]
        },
        {
          "output_type": "error",
          "ename": "NameError",
          "evalue": "name 'a' is not defined",
          "traceback": [
            "\u001b[0;31m---------------------------------------------------------------------------\u001b[0m",
            "\u001b[0;31mNameError\u001b[0m                                 Traceback (most recent call last)",
            "\u001b[0;32m<ipython-input-4-e3df5781d077>\u001b[0m in \u001b[0;36m<cell line: 0>\u001b[0;34m()\u001b[0m\n\u001b[1;32m      4\u001b[0m \u001b[0;34m\u001b[0m\u001b[0m\n\u001b[1;32m      5\u001b[0m \u001b[0;32mdel\u001b[0m \u001b[0ma\u001b[0m\u001b[0;34m\u001b[0m\u001b[0;34m\u001b[0m\u001b[0m\n\u001b[0;32m----> 6\u001b[0;31m \u001b[0mprint\u001b[0m\u001b[0;34m(\u001b[0m\u001b[0ma\u001b[0m\u001b[0;34m)\u001b[0m\u001b[0;34m\u001b[0m\u001b[0;34m\u001b[0m\u001b[0m\n\u001b[0m",
            "\u001b[0;31mNameError\u001b[0m: name 'a' is not defined"
          ]
        }
      ]
    },
    {
      "cell_type": "markdown",
      "source": [],
      "metadata": {
        "id": "0edxp-RT1d2V"
      }
    },
    {
      "cell_type": "code",
      "source": [],
      "metadata": {
        "id": "lz1zPwKi1kpO"
      },
      "execution_count": null,
      "outputs": []
    },
    {
      "cell_type": "code",
      "source": [
        "#creating multiple variables\n",
        "a,b,c = 10, 3.14, 'NTT'\n",
        "print(a,b,c)"
      ],
      "metadata": {
        "id": "g-uB1rD10ndu"
      },
      "execution_count": null,
      "outputs": []
    },
    {
      "cell_type": "code",
      "source": [
        "#assigning  to single values to multiple\n",
        "a=b=c=12\n",
        "print(a,b,c)\n"
      ],
      "metadata": {
        "id": "QQ08Em3L034h"
      },
      "execution_count": null,
      "outputs": []
    },
    {
      "cell_type": "code",
      "source": [
        "#variable annotation\n",
        "a: int = 12\n",
        "print(a)\n",
        "\n",
        "print(__annotations__['a'])\n",
        "\n",
        "b: float = 12.12\n",
        "print(b)\n",
        "\n",
        "print(__annotations__['b'])\n",
        "\n",
        "c: str = 'ntt'\n",
        "print(c)\n",
        "\n",
        "print(__annotations__['c'])\n",
        "\n",
        "a=\"blt\"\n",
        "print(a)\n",
        "\n"
      ],
      "metadata": {
        "id": "NNC3c0a31nvT"
      },
      "execution_count": null,
      "outputs": []
    },
    {
      "cell_type": "code",
      "source": [
        "import keyword\n",
        "\n",
        "print(keyword.kwlist)\n",
        "print(len(keyword.kwlist))\n"
      ],
      "metadata": {
        "id": "lCtB2QBh3LkO"
      },
      "execution_count": null,
      "outputs": []
    },
    {
      "cell_type": "code",
      "source": [
        "#single line comment\n",
        "#sdfgffgjm\n",
        "\n",
        "#multi line commenting\n",
        "'''asdf\n",
        "dsvcb\n",
        "dsfvb\n",
        "dcfvgb '''"
      ],
      "metadata": {
        "id": "zWaipCfr4JvH",
        "outputId": "f84313e6-6129-4228-85e4-c021553d1adf",
        "colab": {
          "base_uri": "https://localhost:8080/",
          "height": 35
        }
      },
      "execution_count": null,
      "outputs": [
        {
          "output_type": "execute_result",
          "data": {
            "text/plain": [
              "'asdf\\ndsvcb\\ndsfvb\\ndcfvgb '"
            ],
            "application/vnd.google.colaboratory.intrinsic+json": {
              "type": "string"
            }
          },
          "metadata": {},
          "execution_count": 5
        }
      ]
    },
    {
      "cell_type": "code",
      "source": [
        "#string\n",
        "#positive indexing\n",
        "s = \"code yug\"\n",
        "print(s[0:3:1])\n",
        "print(s[2:5])\n",
        "print(s[::])\n",
        "print(s[0:5:2])\n",
        "print(s[:4])\n",
        "print(s[::])\n",
        "print(s[0::3])\n",
        "print(s[0::2])\n",
        "print(s[0:0:1])"
      ],
      "metadata": {
        "id": "bWCZckb34Xk-",
        "outputId": "fdfca525-65c0-40e4-93ac-6c6054a33f8b",
        "colab": {
          "base_uri": "https://localhost:8080/"
        }
      },
      "execution_count": null,
      "outputs": [
        {
          "output_type": "stream",
          "name": "stdout",
          "text": [
            "cod\n",
            "de \n",
            "code yug\n",
            "cd \n",
            "code\n",
            "code yug\n",
            "ceu\n",
            "cd u\n",
            "\n"
          ]
        }
      ]
    },
    {
      "cell_type": "code",
      "source": [
        "#negative indexing\n",
        "s = \"code yug\"\n",
        "print(s[-1:-6:-1])\n",
        "print(s[-1:-6:-2])\n",
        "print(s[-2:-4:-2])\n",
        "print(s[-1:-6:-3])\n",
        "print(s[-3:-8:-2])\n",
        "print(s[::])\n",
        "print(s[::-1])\n",
        "print(s[-1::-1])\n",
        "print(s[:-9:-1])\n",
        "print(s[-1::])\n",
        "print(s[-1:-3:-1])\n",
        "print(s[-1:-4:-1])\n",
        "print(s[-1:-5:-1])\n"
      ],
      "metadata": {
        "id": "bpY3f12uG06x",
        "outputId": "8af6dd44-a678-4406-93c6-ebeafb7ec917",
        "colab": {
          "base_uri": "https://localhost:8080/"
        }
      },
      "execution_count": null,
      "outputs": [
        {
          "output_type": "stream",
          "name": "stdout",
          "text": [
            "guy e\n",
            "gye\n",
            "u\n",
            "g \n",
            "yeo\n",
            "code yug\n",
            "guy edoc\n",
            "guy edoc\n",
            "guy edoc\n",
            "g\n",
            "gu\n",
            "guy\n",
            "guy \n"
          ]
        }
      ]
    },
    {
      "cell_type": "code",
      "source": [
        "s = \"bangalore\"\n",
        "print(s[-1:-4:-1])\n",
        "print(s[-1:-8:-2])\n",
        "print(s[-1:-4:-1])\n",
        "print(s[-2:-6:2])\n",
        "print(s[-1:-6:1])\n",
        "print(s[-1::-1])\n",
        "print(s[-1:-11])\n",
        "print(s[-1:-1:-1])"
      ],
      "metadata": {
        "id": "3fUBdpVaJ-JO",
        "outputId": "74857ad7-2c28-4931-cd36-dd30c25b7cc3",
        "colab": {
          "base_uri": "https://localhost:8080/"
        }
      },
      "execution_count": null,
      "outputs": [
        {
          "output_type": "stream",
          "name": "stdout",
          "text": [
            "ero\n",
            "eoan\n",
            "ero\n",
            "\n",
            "\n",
            "erolagnab\n",
            "\n",
            "\n"
          ]
        }
      ]
    },
    {
      "cell_type": "code",
      "source": [
        "s = \"Hello, world!\"\n",
        "print(s[7:12])\n",
        "print(s[5:12])\n",
        "print(s[:5])\n",
        "print(s[-6:-1])"
      ],
      "metadata": {
        "id": "_JeGS4RSNLJP",
        "outputId": "ceaaec5e-5fbb-4380-af1e-9f41f50b922c",
        "colab": {
          "base_uri": "https://localhost:8080/"
        }
      },
      "execution_count": null,
      "outputs": [
        {
          "output_type": "stream",
          "name": "stdout",
          "text": [
            "world\n",
            ", world\n",
            "Hello\n",
            "world\n"
          ]
        }
      ]
    },
    {
      "cell_type": "code",
      "source": [
        "text = \"Data Science\"\n",
        "print(text[-5:-1])\n",
        "\n",
        "text1 = \"Python\"\n",
        "print(text1[::-1])\n",
        "\n",
        "\n",
        "\n",
        "\n"
      ],
      "metadata": {
        "id": "NBwmmWs0Q3R1",
        "outputId": "56b7f523-5fd6-4fbf-b292-e566b1d17b9f",
        "colab": {
          "base_uri": "https://localhost:8080/"
        }
      },
      "execution_count": null,
      "outputs": [
        {
          "output_type": "stream",
          "name": "stdout",
          "text": [
            "ienc\n",
            "nohtyP\n"
          ]
        }
      ]
    },
    {
      "cell_type": "markdown",
      "source": [],
      "metadata": {
        "id": "WsRJUVd12pmn"
      }
    },
    {
      "cell_type": "code",
      "source": [
        "print(\"bhagya\")"
      ],
      "metadata": {
        "colab": {
          "base_uri": "https://localhost:8080/"
        },
        "id": "J1DZOCJby6Sy",
        "outputId": "c1f1ff51-a00d-457f-a587-a7f3c6c9f491"
      },
      "execution_count": null,
      "outputs": [
        {
          "output_type": "stream",
          "name": "stdout",
          "text": [
            "bhagya\n"
          ]
        }
      ]
    },
    {
      "cell_type": "code",
      "source": [
        "2+3"
      ],
      "metadata": {
        "colab": {
          "base_uri": "https://localhost:8080/"
        },
        "id": "456iibnZml4b",
        "outputId": "9228c628-d44a-4ef0-f5ea-b306750a915b"
      },
      "execution_count": null,
      "outputs": [
        {
          "output_type": "execute_result",
          "data": {
            "text/plain": [
              "5"
            ]
          },
          "metadata": {},
          "execution_count": 12
        }
      ]
    },
    {
      "cell_type": "code",
      "source": [
        "a = 10\n",
        "print(a)\n",
        "print(\"a=\",id(a))\n",
        "\n",
        "b=10\n",
        "print(b)\n",
        "print(\"b=\",id(b))\n",
        "\n",
        "c=a\n",
        "print(c)\n",
        "print(\"c=\",id(c))"
      ],
      "metadata": {
        "id": "-IwVdJ52BKD4",
        "colab": {
          "base_uri": "https://localhost:8080/"
        },
        "outputId": "78298902-2cca-4aac-daf7-259e97d0dcb6"
      },
      "execution_count": null,
      "outputs": [
        {
          "output_type": "stream",
          "name": "stdout",
          "text": [
            "10\n",
            "a= 10751144\n",
            "10\n",
            "b= 10751144\n",
            "10\n",
            "c= 10751144\n"
          ]
        }
      ]
    },
    {
      "cell_type": "code",
      "source": [
        "#day3\n",
        "\n",
        "# simple if statement\n",
        "\n",
        "if 10>5:\n",
        "  print(\"10 is greater than 5\")\n",
        "  print(\" i am inside if bloxk\")\n",
        "  print(\"still i am inside if block\")\n",
        "  print(\"i am outside if block\")\n"
      ],
      "metadata": {
        "id": "u7yeSAzoBU2X",
        "colab": {
          "base_uri": "https://localhost:8080/"
        },
        "outputId": "e1454941-d04f-4495-ae92-3e69ba837a7a"
      },
      "execution_count": null,
      "outputs": [
        {
          "output_type": "stream",
          "name": "stdout",
          "text": [
            "10 is greater than 5\n",
            " i am inside if bloxk\n",
            "still i am inside if block\n",
            "i am outside if block\n"
          ]
        }
      ]
    },
    {
      "cell_type": "code",
      "source": [
        "# input statement\n",
        "\n",
        "name = input(\" enter your name\")\n",
        "print(\"your name is\",name)"
      ],
      "metadata": {
        "id": "MW-ZqrajBX7P",
        "colab": {
          "base_uri": "https://localhost:8080/"
        },
        "outputId": "0921e61b-f60d-4451-aa63-84df62ee31f1"
      },
      "execution_count": null,
      "outputs": [
        {
          "output_type": "stream",
          "name": "stdout",
          "text": [
            " enter your namebhagya\n",
            "your name is bhagya\n"
          ]
        }
      ]
    },
    {
      "cell_type": "code",
      "source": [
        "no1 = int(input(\" enter the first no\"))\n",
        "no2 = int(input(\"enter the 2nd number\"))\n",
        "\n",
        "if no1 > no2:\n",
        "  print(\"no1 is greater\")"
      ],
      "metadata": {
        "id": "pwJFosczBdPt",
        "colab": {
          "base_uri": "https://localhost:8080/"
        },
        "outputId": "55fbce1b-cca3-49af-a89f-0d8db76be081"
      },
      "execution_count": null,
      "outputs": [
        {
          "name": "stdout",
          "output_type": "stream",
          "text": [
            " enter the first no12\n",
            "enter the 2nd number23\n"
          ]
        }
      ]
    },
    {
      "cell_type": "markdown",
      "source": [],
      "metadata": {
        "id": "j_MKgl27BfY7"
      }
    },
    {
      "cell_type": "code",
      "source": [
        "no1 = float(input(\" enter the first no\"))\n",
        "no2 = float(input(\"enter the 2nd number\"))\n",
        "print(no1+no2)"
      ],
      "metadata": {
        "id": "MZhVPHe7BgAR"
      },
      "execution_count": null,
      "outputs": []
    },
    {
      "cell_type": "code",
      "source": [
        "age = int(input(\"enter your age\"))\n",
        "\n",
        "if age >= 18 :\n",
        "  print(\"welcome to vote\")\n",
        "  print(\"you can vote\")\n",
        "else:\n",
        "  print(\"you cannot vote\")\n",
        "\n",
        "print(\"Thank you\")"
      ],
      "metadata": {
        "id": "pgMgLSgKBm9C"
      },
      "execution_count": null,
      "outputs": []
    },
    {
      "cell_type": "code",
      "source": [
        "a = int ( input(\"enter a no\"))\n",
        "\n",
        "if a % 2 == 0 :\n",
        "  print(\" even no\")\n",
        "else:\n",
        "  print(\"odd\")"
      ],
      "metadata": {
        "id": "iNFkaFm5BnqA"
      },
      "execution_count": null,
      "outputs": []
    },
    {
      "cell_type": "code",
      "source": [
        "#  if elif else\n",
        "\n",
        "grade = int(input(\"enter your score\"))\n",
        "\n",
        "if grade >= 90:\n",
        "  print(\"A grade\")\n",
        "elif grade >= 80:\n",
        "  print(\"B grade\")\n",
        "elif grade >= 70:\n",
        "  print(\"c grade\")\n",
        "\n",
        "else:\n",
        "  print(\"fail\")"
      ],
      "metadata": {
        "id": "3n3VR6ySBrD-"
      },
      "execution_count": null,
      "outputs": []
    },
    {
      "cell_type": "code",
      "source": [
        "# nested if\n",
        "\n",
        "num = int(input(\"enetr a no\"))\n",
        "\n",
        "if num > 0 :\n",
        "  print(\"numer is a positive number\")\n",
        "  if num%2 == 0:\n",
        "    print(\"number is even\")\n",
        "  else:\n",
        "    print(\"number is odd\")\n",
        "else:\n",
        "  print(\"negative number\")"
      ],
      "metadata": {
        "id": "fgUh1QkFBvyz"
      },
      "execution_count": null,
      "outputs": []
    },
    {
      "cell_type": "code",
      "source": [
        "# while loop\n",
        "\n",
        "i=2\n",
        "\n",
        "while i<=5:\n",
        "  print(i)\n",
        "  i =i+1"
      ],
      "metadata": {
        "id": "L1yA03dGB3EH"
      },
      "execution_count": null,
      "outputs": []
    },
    {
      "cell_type": "code",
      "source": [
        "# multiplication table\n",
        "\n",
        "num = int(input(\"enter the table no\"))\n",
        "\n",
        "i=1\n",
        "\n",
        "while i <=10:\n",
        "  print(i*num)\n",
        "  i=i+1"
      ],
      "metadata": {
        "id": "VL5L0op5B6VM"
      },
      "execution_count": null,
      "outputs": []
    },
    {
      "cell_type": "code",
      "source": [
        "i= 1\n",
        "while i <= 100:\n",
        "  print(i)\n",
        "  i+=2\n"
      ],
      "metadata": {
        "id": "zLMDXI-qB93L"
      },
      "execution_count": null,
      "outputs": []
    },
    {
      "cell_type": "code",
      "source": [
        "# for loop\n",
        "\n",
        "for i in \"Good\" :\n",
        "  print(\"Ntt data\")"
      ],
      "metadata": {
        "id": "qMJUzy_PCGNR"
      },
      "execution_count": null,
      "outputs": []
    },
    {
      "cell_type": "code",
      "source": [
        "v = ['a','e','i','o','u']\n",
        "\n",
        "st = \"bangalore\"\n",
        "counter= 0\n",
        "\n",
        "for i in \"bangalore\":\n",
        "  if i in v:\n",
        "    counter = counter + 1\n",
        "\n",
        "print(counter)\n"
      ],
      "metadata": {
        "id": "TkzvPSNYCKIa"
      },
      "execution_count": null,
      "outputs": []
    },
    {
      "cell_type": "code",
      "source": [
        "str = input(\"enter a string:\")\n",
        "print(str[::-1])"
      ],
      "metadata": {
        "id": "bfpLwMPpCKx4"
      },
      "execution_count": null,
      "outputs": []
    },
    {
      "cell_type": "code",
      "source": [
        "str = input(\"enter a string:\")\n",
        "rev = str[::-1]\n",
        "print(rev)\n",
        "\n",
        "if str==rev:\n",
        "  print(\"palindrome\")\n",
        "else:\n",
        "  print(\"not palindrome\")"
      ],
      "metadata": {
        "id": "SXmSICJIzOyM"
      },
      "execution_count": null,
      "outputs": []
    },
    {
      "cell_type": "code",
      "source": [],
      "metadata": {
        "id": "4z0nRDBa19wX"
      },
      "execution_count": null,
      "outputs": []
    },
    {
      "cell_type": "code",
      "source": [
        "#nested for loop\n",
        "for i in \"blr\":\n",
        "  print(\"outer loop\")\n",
        "  for j in [10,20,30]:\n",
        "    print(\"inner loop\")\n",
        "    print(i,j)"
      ],
      "metadata": {
        "id": "Vq13Eafx0_f0"
      },
      "execution_count": null,
      "outputs": []
    },
    {
      "cell_type": "code",
      "source": [
        "for i in \"bangalore\":\n",
        "  print(i)\n",
        "  if i == 'o':\n",
        "    break\n",
        "print(\"end of loop\")\n"
      ],
      "metadata": {
        "id": "eV9WdBK34trO"
      },
      "execution_count": null,
      "outputs": []
    },
    {
      "cell_type": "code",
      "source": [
        "#concatenation using + operator\n",
        "\n",
        "s1=\"apple\"\n",
        "s2=\"banana\"\n",
        "print(s1+s2)"
      ],
      "metadata": {
        "id": "ArBwh0vd9Ntg"
      },
      "execution_count": null,
      "outputs": []
    },
    {
      "cell_type": "code",
      "source": [
        "#concatenation using * operator\n",
        "\n",
        "s1=\"apple\"\n",
        "s2=\"banana\"\n",
        "print(s1*2)\n",
        "print(s2*2)"
      ],
      "metadata": {
        "id": "Qb39JpGd9mJx"
      },
      "execution_count": null,
      "outputs": []
    },
    {
      "cell_type": "code",
      "source": [
        "#string is immutable\n",
        "s1 = \"apple\"\n",
        "print(s1)\n",
        "s1[0] =\"A\"\n",
        "print(s1)"
      ],
      "metadata": {
        "id": "6-RFA8xX99FR"
      },
      "execution_count": null,
      "outputs": []
    },
    {
      "cell_type": "code",
      "source": [
        "#deletion\n",
        "s1 = \"apple\"\n",
        "print(s1)\n",
        "del s1\n",
        "#print(s1)"
      ],
      "metadata": {
        "id": "eicaEPsa-U-r"
      },
      "execution_count": null,
      "outputs": []
    },
    {
      "cell_type": "code",
      "source": [
        "# length of the string\n",
        "s1 = input(\"enter a string:\")\n",
        "print(len(s1))"
      ],
      "metadata": {
        "id": "m7JFtU1L-our"
      },
      "execution_count": null,
      "outputs": []
    },
    {
      "cell_type": "code",
      "source": [
        "# count method\n",
        "s1 = \" i am good, i taught you also good\"\n",
        "c = s1.count(\"good\", 20)\n",
        "print(c)\n"
      ],
      "metadata": {
        "id": "9CbSRX7R_USb"
      },
      "execution_count": null,
      "outputs": []
    },
    {
      "cell_type": "code",
      "source": [
        "s1 = \"india is big india culture is good\"\n",
        "c = s1.count(\"india\", 2,20)\n",
        "print(c)"
      ],
      "metadata": {
        "id": "Beji5ytDAoRj"
      },
      "execution_count": null,
      "outputs": []
    },
    {
      "cell_type": "code",
      "source": [
        "#startswith method\n",
        "mainstring = input(\"enter the main string:\")\n",
        "substring = input(\"enter the substring:\")\n",
        "print(mainstring.startswith(substring))\n",
        "\n",
        "if mainstring.startswith(substring):\n",
        "  print(\"yes substring is available\")\n",
        "else:\n",
        "  print(\"no not available\")"
      ],
      "metadata": {
        "id": "SkIGFmI1BI5_"
      },
      "execution_count": null,
      "outputs": []
    },
    {
      "cell_type": "code",
      "source": [
        "str = input(\"enter a string:\")\n",
        "if str.startswith(\"I\"):\n",
        "  print(\"India\")\n",
        "elif str.endswith(\"an\"):\n",
        "  print(\"pak\")\n",
        "else:\n",
        "  print(\"australia\")\n"
      ],
      "metadata": {
        "id": "_q2rcLngGUMy"
      },
      "execution_count": null,
      "outputs": []
    },
    {
      "cell_type": "code",
      "source": [],
      "metadata": {
        "id": "Tm08XcANIJm_"
      },
      "execution_count": null,
      "outputs": []
    },
    {
      "cell_type": "code",
      "source": [
        "str = input(\"enter a url\")\n",
        "if str.endswith(\".com\"):\n",
        "  print(\"commercial website\")\n",
        "elif str.endswith(\".edu\"):\n",
        "  print(\"educational website\")\n",
        "elif str.startswith(\"www\"):\n",
        "  print(\"website\")\n",
        "\n",
        "else:\n",
        "  print(\"not website\")"
      ],
      "metadata": {
        "id": "b3j6JXEdGk01"
      },
      "execution_count": null,
      "outputs": []
    },
    {
      "cell_type": "code",
      "source": [
        "#lstrip\n",
        "\n",
        "name = input(\"enter name:\")\n",
        "print(name)\n",
        "\n",
        "name = name.lstrip()\n",
        "print(name)"
      ],
      "metadata": {
        "id": "Yf8mWgByILIl"
      },
      "execution_count": null,
      "outputs": []
    },
    {
      "cell_type": "code",
      "source": [
        "url= [\"http://www.myntra.com\", \"http://www.ajio.com\", \"http://www.amazon.com\"]\n",
        "for i in url:\n",
        "  #i = i.lstrip(\"http://www.\")\n",
        "  #i = i.lstrip(\"htp:/w.\")\n",
        "  i=i.lstrip(\"hytp/w.\")\n",
        "  print(i)"
      ],
      "metadata": {
        "id": "kjg-RrwvI7Zu"
      },
      "execution_count": null,
      "outputs": []
    },
    {
      "cell_type": "code",
      "source": [
        "#lstrip\n",
        "\n",
        "l=[\"http://www.myntra.com\",\"http://www.ntt.com\",\"http://www.google.com\"]\n",
        "for i in l:\n",
        "  print(i.lstrip(\"http://www.\"))\n",
        "for j in l:\n",
        "  print(j.lstrip(\"hp:/w.\"))"
      ],
      "metadata": {
        "colab": {
          "base_uri": "https://localhost:8080/"
        },
        "id": "FbvNcEtvL1JE",
        "outputId": "1a5e2956-d929-4318-a3ab-89e0ec133104"
      },
      "execution_count": null,
      "outputs": [
        {
          "output_type": "stream",
          "name": "stdout",
          "text": [
            "myntra.com\n",
            "ntt.com\n",
            "google.com\n",
            "ttp://www.myntra.com\n",
            "ttp://www.ntt.com\n",
            "ttp://www.google.com\n"
          ]
        }
      ]
    },
    {
      "cell_type": "code",
      "source": [
        "url= [\"http://www.myntra.com\", \"http://www.ajio.com\", \"http://www.amazon.com\"]\n",
        "for i in url:\n",
        "  #i = i.lstrip(\"http://www.\")\n",
        "  #i = i.lstrip(\"htp:/w.\")\n",
        "  i=i.lstrip(\"hp/w.\")\n",
        "  print(i)"
      ],
      "metadata": {
        "colab": {
          "base_uri": "https://localhost:8080/"
        },
        "id": "AP3P26jFOseS",
        "outputId": "2099402c-3496-497b-fc13-7a9a7cc691b8"
      },
      "execution_count": null,
      "outputs": [
        {
          "output_type": "stream",
          "name": "stdout",
          "text": [
            "ttp://www.myntra.com\n",
            "ttp://www.ajio.com\n",
            "ttp://www.amazon.com\n"
          ]
        }
      ]
    },
    {
      "cell_type": "code",
      "source": [
        "url= [\"http://www.myntra.com\", \"http://www.ajio.com\", \"http://www.amazon.com\"]\n",
        "for i in url:\n",
        "  #i = i.lstrip(\"http://www.\")\n",
        "  #i = i.lstrip(\"htp:/w.\")\n",
        "  i=i.strip('htpcom')\n",
        "  print(i)"
      ],
      "metadata": {
        "colab": {
          "base_uri": "https://localhost:8080/"
        },
        "id": "p5wnoe7RO0Og",
        "outputId": "2b43a719-61be-466c-c444-b9d815c8a689"
      },
      "execution_count": null,
      "outputs": [
        {
          "output_type": "stream",
          "name": "stdout",
          "text": [
            "://www.myntra.\n",
            "://www.ajio.\n",
            "://www.amazon.\n"
          ]
        }
      ]
    },
    {
      "cell_type": "code",
      "source": [
        "s1 = \"apple\"\n",
        "s2 = \"Apple\"\n",
        "\n",
        "if s1 == s2:\n",
        "  print(\"same\")\n",
        "else:\n",
        "  print(\"not same\")\n",
        "\n",
        "print(ord(\"a\"))\n",
        "print(ord(\"A\"))"
      ],
      "metadata": {
        "id": "hPOK5V3IQpCA",
        "outputId": "29856f18-6103-47c0-b207-4353a17944c1",
        "colab": {
          "base_uri": "https://localhost:8080/"
        }
      },
      "execution_count": null,
      "outputs": [
        {
          "output_type": "stream",
          "name": "stdout",
          "text": [
            "not same\n",
            "97\n",
            "65\n"
          ]
        }
      ]
    },
    {
      "cell_type": "code",
      "source": [],
      "metadata": {
        "colab": {
          "base_uri": "https://localhost:8080/"
        },
        "id": "TQhYQ2r_RBHN",
        "outputId": "611072f7-190a-4522-8b4a-6e09abe223a8"
      },
      "execution_count": null,
      "outputs": [
        {
          "output_type": "stream",
          "name": "stdout",
          "text": [
            "[10, 20, 23, 34, 1.1, 'NTT']\n",
            "<class 'list'>\n"
          ]
        }
      ]
    },
    {
      "cell_type": "code",
      "source": [
        "#replace\n",
        "s = \"apple\"\n",
        "s1 = s.replace(\"e\",\"E\")\n",
        "print(s)\n",
        "print(s1)"
      ],
      "metadata": {
        "id": "43N3ZUUvSk1q",
        "outputId": "11d1a23d-19ac-4309-e791-1aaaa4e54555",
        "colab": {
          "base_uri": "https://localhost:8080/"
        }
      },
      "execution_count": null,
      "outputs": [
        {
          "output_type": "stream",
          "name": "stdout",
          "text": [
            "apple\n",
            "applE\n"
          ]
        }
      ]
    },
    {
      "cell_type": "code",
      "source": [
        "#list\n",
        "l = [10,20,23,34,1.1,'NTT']\n",
        "print(l)\n",
        "print(type(l))"
      ],
      "metadata": {
        "colab": {
          "base_uri": "https://localhost:8080/"
        },
        "id": "Jzkji5icRRPi",
        "outputId": "9f3e68a3-b043-4a57-f741-57f42377fa1f"
      },
      "execution_count": null,
      "outputs": [
        {
          "output_type": "stream",
          "name": "stdout",
          "text": [
            "[10, 20, 23, 34, 1.1, 'NTT']\n",
            "<class 'list'>\n"
          ]
        }
      ]
    },
    {
      "cell_type": "code",
      "source": [
        "# list indexing\n",
        "l1 = [12,23,34,\"NTT\",[1,2,3]]\n",
        "print(l1[1])\n",
        "print(l1[-1])\n",
        "print(l1[-2])\n",
        "print(l1[4][2])"
      ],
      "metadata": {
        "colab": {
          "base_uri": "https://localhost:8080/"
        },
        "id": "fl8_WFZVRSs6",
        "outputId": "cb4b26bf-1d09-4282-b791-0f695df8d273"
      },
      "execution_count": null,
      "outputs": [
        {
          "output_type": "stream",
          "name": "stdout",
          "text": [
            "23\n",
            "[1, 2, 3]\n",
            "NTT\n",
            "3\n"
          ]
        }
      ]
    },
    {
      "cell_type": "code",
      "source": [
        "# list slicing\n",
        "l1 = [10,20.3,3.25,\"NTT\", [1,2,2]]\n",
        "print(l1[:2:])\n",
        "print(l1[::-1])"
      ],
      "metadata": {
        "colab": {
          "base_uri": "https://localhost:8080/"
        },
        "id": "J2jpE14oR1Sl",
        "outputId": "82b8cc98-63e5-4523-ad3b-06e05d48fbf4"
      },
      "execution_count": null,
      "outputs": [
        {
          "output_type": "stream",
          "name": "stdout",
          "text": [
            "[10, 20.3]\n",
            "[[1, 2, 2], 'NTT', 3.25, 20.3, 10]\n"
          ]
        }
      ]
    },
    {
      "cell_type": "code",
      "source": [
        "#concatenation\n",
        "l1 = [10,20,30]\n",
        "l2= [23,45,87]\n",
        "l3 = l1+l2\n",
        "print(l3)"
      ],
      "metadata": {
        "colab": {
          "base_uri": "https://localhost:8080/"
        },
        "id": "mYe5WCtNSfg4",
        "outputId": "280c0cdc-21a6-4143-9078-0e86940ba880"
      },
      "execution_count": null,
      "outputs": [
        {
          "output_type": "stream",
          "name": "stdout",
          "text": [
            "[10, 20, 30, 23, 45, 87]\n"
          ]
        }
      ]
    },
    {
      "cell_type": "code",
      "source": [
        "#multiplication of list\n",
        "l1 = [10,20,30]\n",
        "print(l1*3)"
      ],
      "metadata": {
        "colab": {
          "base_uri": "https://localhost:8080/"
        },
        "id": "3Qg0gKmuS4tk",
        "outputId": "6344bfc0-9e4f-485e-86f1-8ee678a71c3d"
      },
      "execution_count": null,
      "outputs": [
        {
          "output_type": "stream",
          "name": "stdout",
          "text": [
            "[10, 20, 30, 10, 20, 30, 10, 20, 30]\n"
          ]
        }
      ]
    },
    {
      "cell_type": "code",
      "source": [
        "# list iteration\n",
        "l1 = [10,20,30,43]\n",
        "for i in l1:\n",
        "  print(i+1)"
      ],
      "metadata": {
        "colab": {
          "base_uri": "https://localhost:8080/"
        },
        "id": "ZKCwwsyjTgaV",
        "outputId": "35b415c4-356c-40a7-c4d0-497d39711513"
      },
      "execution_count": null,
      "outputs": [
        {
          "output_type": "stream",
          "name": "stdout",
          "text": [
            "11\n",
            "21\n",
            "31\n",
            "44\n"
          ]
        }
      ]
    },
    {
      "cell_type": "code",
      "source": [
        "# list membership operator\n",
        "l1 = [10,20,30,40]\n",
        "\n",
        "print(10 in l1)"
      ],
      "metadata": {
        "colab": {
          "base_uri": "https://localhost:8080/"
        },
        "id": "XDBGjUVcT2cK",
        "outputId": "b9e07bb6-f170-4b2a-9a8a-4dbabce37db5"
      },
      "execution_count": null,
      "outputs": [
        {
          "output_type": "stream",
          "name": "stdout",
          "text": [
            "True\n"
          ]
        }
      ]
    },
    {
      "cell_type": "code",
      "source": [
        "#list deletion\n",
        "l1= [12,23,34,45]\n",
        "print(l1)\n",
        "del l1[0:2]\n",
        "print(l1)"
      ],
      "metadata": {
        "colab": {
          "base_uri": "https://localhost:8080/"
        },
        "id": "WH1lyCIbUIe0",
        "outputId": "a8f9f6ea-e293-4637-aeff-4f6026b507d1"
      },
      "execution_count": null,
      "outputs": [
        {
          "output_type": "stream",
          "name": "stdout",
          "text": [
            "[12, 23, 34, 45]\n",
            "[34, 45]\n"
          ]
        }
      ]
    },
    {
      "cell_type": "code",
      "source": [],
      "metadata": {
        "id": "hTplumx8WeIt"
      },
      "execution_count": null,
      "outputs": []
    },
    {
      "cell_type": "code",
      "source": [
        "# max element\n",
        "l1 = [10,20,30]\n",
        "print(max(l1))\n",
        "\n",
        "l2= [\"apple\", \"amma\",'alliswell']\n",
        "print(max(l2, key +len))"
      ],
      "metadata": {
        "colab": {
          "base_uri": "https://localhost:8080/",
          "height": 193
        },
        "id": "NwP40-65UiU1",
        "outputId": "5d6e4c60-af52-4868-c7b9-b7d93bacd278"
      },
      "execution_count": null,
      "outputs": [
        {
          "output_type": "stream",
          "name": "stdout",
          "text": [
            "30\n"
          ]
        },
        {
          "output_type": "error",
          "ename": "NameError",
          "evalue": "name 'key' is not defined",
          "traceback": [
            "\u001b[0;31m---------------------------------------------------------------------------\u001b[0m",
            "\u001b[0;31mNameError\u001b[0m                                 Traceback (most recent call last)",
            "\u001b[0;32m<ipython-input-20-01d63736539b>\u001b[0m in \u001b[0;36m<cell line: 0>\u001b[0;34m()\u001b[0m\n\u001b[1;32m      4\u001b[0m \u001b[0;34m\u001b[0m\u001b[0m\n\u001b[1;32m      5\u001b[0m \u001b[0ml2\u001b[0m\u001b[0;34m=\u001b[0m \u001b[0;34m[\u001b[0m\u001b[0;34m\"apple\"\u001b[0m\u001b[0;34m,\u001b[0m \u001b[0;34m\"amma\"\u001b[0m\u001b[0;34m,\u001b[0m\u001b[0;34m'alliswell'\u001b[0m\u001b[0;34m]\u001b[0m\u001b[0;34m\u001b[0m\u001b[0;34m\u001b[0m\u001b[0m\n\u001b[0;32m----> 6\u001b[0;31m \u001b[0mprint\u001b[0m\u001b[0;34m(\u001b[0m\u001b[0mmax\u001b[0m\u001b[0;34m(\u001b[0m\u001b[0ml2\u001b[0m\u001b[0;34m,\u001b[0m \u001b[0mkey\u001b[0m \u001b[0;34m+\u001b[0m\u001b[0mlen\u001b[0m\u001b[0;34m)\u001b[0m\u001b[0;34m)\u001b[0m\u001b[0;34m\u001b[0m\u001b[0;34m\u001b[0m\u001b[0m\n\u001b[0m",
            "\u001b[0;31mNameError\u001b[0m: name 'key' is not defined"
          ]
        }
      ]
    },
    {
      "cell_type": "code",
      "source": [
        "l1 = []\n",
        "print(max(l1, default=1))"
      ],
      "metadata": {
        "colab": {
          "base_uri": "https://localhost:8080/"
        },
        "id": "3f1miv_SXhif",
        "outputId": "10bdbdea-aa58-4c50-8d56-b228dbb5a565"
      },
      "execution_count": null,
      "outputs": [
        {
          "output_type": "stream",
          "name": "stdout",
          "text": [
            "1\n"
          ]
        }
      ]
    },
    {
      "cell_type": "code",
      "source": [
        "# max element\n",
        "l1 = [10,20,30]\n",
        "print(max(l1))\n",
        "\n",
        "l2= [\"apple\", \"amma\",'appleyyy']\n",
        "print(max(l2, key = len))"
      ],
      "metadata": {
        "colab": {
          "base_uri": "https://localhost:8080/"
        },
        "id": "DI5JKbAGWitd",
        "outputId": "9ef2cee2-2e2c-4e92-c167-e0a62c7b6e0c"
      },
      "execution_count": null,
      "outputs": [
        {
          "output_type": "stream",
          "name": "stdout",
          "text": [
            "30\n",
            "appleyyy\n"
          ]
        }
      ]
    },
    {
      "cell_type": "code",
      "source": [
        "#min method\n",
        "l1 = [12,11,13]\n",
        "print(min(l1))"
      ],
      "metadata": {
        "colab": {
          "base_uri": "https://localhost:8080/"
        },
        "id": "2c73KSe0b4DD",
        "outputId": "583c41af-ff3b-4d90-b4bb-247f639e3bbd"
      },
      "execution_count": null,
      "outputs": [
        {
          "output_type": "stream",
          "name": "stdout",
          "text": [
            "11\n"
          ]
        }
      ]
    },
    {
      "cell_type": "code",
      "source": [
        "#append\n",
        "l1= [12,23,34]\n",
        "l1.append(1.234)\n",
        "print(l1)"
      ],
      "metadata": {
        "colab": {
          "base_uri": "https://localhost:8080/"
        },
        "id": "FhAWlRQ6b_b8",
        "outputId": "64137c1c-6d2b-460a-bf8e-2dd05f45faeb"
      },
      "execution_count": null,
      "outputs": [
        {
          "output_type": "stream",
          "name": "stdout",
          "text": [
            "[12, 23, 34, 1.234]\n"
          ]
        }
      ]
    },
    {
      "cell_type": "code",
      "source": [
        "# append multiple elements\n",
        "k=[1,2,3,4,5]\n",
        "i=0\n",
        "while i<5:\n",
        "  l=int(input(\"enternum\"))\n",
        "  k.append(l)\n",
        "  i=i+1\n",
        "print(k)\n"
      ],
      "metadata": {
        "colab": {
          "base_uri": "https://localhost:8080/"
        },
        "id": "jn72Xo93chin",
        "outputId": "4f58a670-ecd4-4d42-b60e-dfedfaa859d3"
      },
      "execution_count": null,
      "outputs": [
        {
          "name": "stdout",
          "output_type": "stream",
          "text": [
            "enternum45\n"
          ]
        }
      ]
    },
    {
      "cell_type": "code",
      "source": [
        "l = [10,20,30,40]\n",
        "s = int(input(\"how many numbers you want to enter\"))\n",
        "for i in range(0,s):\n",
        "    a = int(input(\"Enter a number: \"))\n",
        "    l.append(a)\n",
        "print(l)"
      ],
      "metadata": {
        "colab": {
          "base_uri": "https://localhost:8080/"
        },
        "id": "DbI7NofxdfV3",
        "outputId": "a0251309-1a05-4eb9-c4d1-985aaef93a7e"
      },
      "execution_count": null,
      "outputs": [
        {
          "output_type": "stream",
          "name": "stdout",
          "text": [
            "how many numbers you want to enter5\n",
            "Enter a number: 12\n",
            "Enter a number: 23\n",
            "Enter a number: 45\n",
            "Enter a number: 56\n",
            "Enter a number: 67\n",
            "[10, 20, 30, 40, 12, 23, 45, 56, 67]\n"
          ]
        }
      ]
    },
    {
      "cell_type": "code",
      "source": [
        "#extend\n",
        "l1=[12,23,2,22]\n",
        "l1.extend((34,4,5,66,78,\"ntt\"))\n",
        "\n",
        "print(l1)"
      ],
      "metadata": {
        "colab": {
          "base_uri": "https://localhost:8080/"
        },
        "id": "3mWlBNxYeOdI",
        "outputId": "d4b0e1a0-1e8f-49f2-a6ca-73cba96fce62"
      },
      "execution_count": null,
      "outputs": [
        {
          "output_type": "stream",
          "name": "stdout",
          "text": [
            "[12, 23, 2, 22, 34, 4, 5, 66, 78, 'ntt']\n"
          ]
        }
      ]
    },
    {
      "cell_type": "code",
      "source": [
        "#Extend\n",
        "a=[1,2,3]\n",
        "b=[4,5,6]\n",
        "print (a.extend(b))"
      ],
      "metadata": {
        "colab": {
          "base_uri": "https://localhost:8080/"
        },
        "id": "2I17ZcR1jOic",
        "outputId": "0fe3f092-b11a-48a8-b416-f0e2bdeba37e"
      },
      "execution_count": null,
      "outputs": [
        {
          "output_type": "stream",
          "name": "stdout",
          "text": [
            "None\n"
          ]
        }
      ]
    },
    {
      "cell_type": "code",
      "source": [
        "a=[1,2,3]\n",
        "b=[\"ntt\",1,2]\n",
        "a.extend(b)\n",
        "print(a)"
      ],
      "metadata": {
        "colab": {
          "base_uri": "https://localhost:8080/"
        },
        "id": "Ap7ciK-CfbnG",
        "outputId": "6c9c7bfb-5b84-4647-ced4-f099b0fedb27"
      },
      "execution_count": null,
      "outputs": [
        {
          "output_type": "stream",
          "name": "stdout",
          "text": [
            "[1, 2, 3, 'ntt', 1, 2]\n"
          ]
        }
      ]
    },
    {
      "cell_type": "code",
      "source": [
        "#insert\n",
        "l1 = [12,23,34,56]\n",
        "l1.insert(1,13)\n",
        "print(l1)"
      ],
      "metadata": {
        "colab": {
          "base_uri": "https://localhost:8080/"
        },
        "id": "2x0IEHGmfr_h",
        "outputId": "c5a00d2b-1209-45e9-a11d-55f3503de885"
      },
      "execution_count": null,
      "outputs": [
        {
          "output_type": "stream",
          "name": "stdout",
          "text": [
            "[12, 13, 23, 34, 56]\n"
          ]
        }
      ]
    },
    {
      "cell_type": "code",
      "source": [],
      "metadata": {
        "id": "PNYgbudB_56u"
      },
      "execution_count": null,
      "outputs": []
    },
    {
      "cell_type": "code",
      "source": [
        "#remove in list\n",
        "l1 = [12,23,22,34,]\n",
        "#l1.remove(23)\n",
        "print(l1.remove(23))#return none always\n",
        "print(l1)\n"
      ],
      "metadata": {
        "colab": {
          "base_uri": "https://localhost:8080/"
        },
        "id": "QM8nFtRxiGxL",
        "outputId": "9191c915-f16d-4143-f102-5f3ef12b10cc"
      },
      "execution_count": null,
      "outputs": [
        {
          "output_type": "stream",
          "name": "stdout",
          "text": [
            "None\n",
            "[12, 22, 34]\n"
          ]
        }
      ]
    },
    {
      "cell_type": "code",
      "source": [
        "#pop in list\n",
        "l1 = [10,20,30,40,50]\n",
        "l1.pop(2)\n",
        "#l1.pop(10)\n",
        "print(l1)"
      ],
      "metadata": {
        "colab": {
          "base_uri": "https://localhost:8080/"
        },
        "id": "MSvMTsOriKsN",
        "outputId": "37b41a82-5cc8-4377-f833-5a659da0b194"
      },
      "execution_count": null,
      "outputs": [
        {
          "output_type": "stream",
          "name": "stdout",
          "text": [
            "[10, 20, 40, 50]\n"
          ]
        }
      ]
    },
    {
      "cell_type": "code",
      "source": [
        "#clear in list\n",
        "l1 = [12,23,34,]\n",
        "l1.clear()\n",
        "print(l1)"
      ],
      "metadata": {
        "colab": {
          "base_uri": "https://localhost:8080/"
        },
        "id": "3e0XUnJTiMle",
        "outputId": "9b95a3cd-b27c-44fc-ea13-7cc45b571f3f"
      },
      "execution_count": null,
      "outputs": [
        {
          "output_type": "stream",
          "name": "stdout",
          "text": [
            "[]\n"
          ]
        }
      ]
    },
    {
      "cell_type": "code",
      "source": [
        "#delete in list\n",
        "l1 = [23,23,45,56]\n",
        "del l1\n",
        "print(l1)"
      ],
      "metadata": {
        "colab": {
          "base_uri": "https://localhost:8080/",
          "height": 176
        },
        "id": "erHbJff0iOvz",
        "outputId": "ab221af3-31c5-447d-99bc-ec263f101c51"
      },
      "execution_count": null,
      "outputs": [
        {
          "output_type": "error",
          "ename": "NameError",
          "evalue": "name 'l1' is not defined",
          "traceback": [
            "\u001b[0;31m---------------------------------------------------------------------------\u001b[0m",
            "\u001b[0;31mNameError\u001b[0m                                 Traceback (most recent call last)",
            "\u001b[0;32m<ipython-input-50-a4bd9f163cdb>\u001b[0m in \u001b[0;36m<cell line: 0>\u001b[0;34m()\u001b[0m\n\u001b[1;32m      2\u001b[0m \u001b[0ml1\u001b[0m \u001b[0;34m=\u001b[0m \u001b[0;34m[\u001b[0m\u001b[0;36m23\u001b[0m\u001b[0;34m,\u001b[0m\u001b[0;36m23\u001b[0m\u001b[0;34m,\u001b[0m\u001b[0;36m45\u001b[0m\u001b[0;34m,\u001b[0m\u001b[0;36m56\u001b[0m\u001b[0;34m]\u001b[0m\u001b[0;34m\u001b[0m\u001b[0;34m\u001b[0m\u001b[0m\n\u001b[1;32m      3\u001b[0m \u001b[0;32mdel\u001b[0m \u001b[0ml1\u001b[0m\u001b[0;34m\u001b[0m\u001b[0;34m\u001b[0m\u001b[0m\n\u001b[0;32m----> 4\u001b[0;31m \u001b[0mprint\u001b[0m\u001b[0;34m(\u001b[0m\u001b[0ml1\u001b[0m\u001b[0;34m)\u001b[0m\u001b[0;34m\u001b[0m\u001b[0;34m\u001b[0m\u001b[0m\n\u001b[0m",
            "\u001b[0;31mNameError\u001b[0m: name 'l1' is not defined"
          ]
        }
      ]
    },
    {
      "cell_type": "code",
      "source": [
        "#removing duplicate elements from the list using looping statement\n",
        "l1=[10,25,36,10,81,25]\n",
        "l2=[]\n",
        "for i in l1:\n",
        "    if i not in l2:\n",
        "        l2.append(i)\n",
        "print(l2)"
      ],
      "metadata": {
        "colab": {
          "base_uri": "https://localhost:8080/"
        },
        "id": "Kb52sGNb14ZM",
        "outputId": "7e31e64f-883f-4419-cacf-ad9e7a6724e3"
      },
      "execution_count": 1,
      "outputs": [
        {
          "output_type": "stream",
          "name": "stdout",
          "text": [
            "[10, 25, 36, 81]\n"
          ]
        }
      ]
    },
    {
      "cell_type": "code",
      "source": [
        "#removing duplicate elements from the list using pop method\n",
        "l1 = [10,25,36,10,81,25]\n",
        "for i in l1:\n",
        "  if i == 10:\n",
        "    l1.pop(3)\n",
        "  if i == 25:\n",
        "    l1.pop(4)\n",
        "print(l1)"
      ],
      "metadata": {
        "colab": {
          "base_uri": "https://localhost:8080/"
        },
        "id": "x2-84B1K1-Vq",
        "outputId": "24fc9e19-c42b-419f-9bd5-f03c3333fd95"
      },
      "execution_count": 2,
      "outputs": [
        {
          "output_type": "stream",
          "name": "stdout",
          "text": [
            "[10, 25, 36, 81]\n"
          ]
        }
      ]
    },
    {
      "cell_type": "code",
      "source": [
        "#unique elemts without duplicate elemnts\n",
        "\n",
        "d = [11, 12, 26, 3, 11, 26,5]\n",
        "uniq = []\n",
        "for i in d:\n",
        "    if i not in uniq:\n",
        "        uniq.append(i)\n",
        "print(uniq)"
      ],
      "metadata": {
        "colab": {
          "base_uri": "https://localhost:8080/"
        },
        "id": "X-wPPFiq2V1y",
        "outputId": "0edb4f25-152a-4821-dcf2-165b08ac8efd"
      },
      "execution_count": 3,
      "outputs": [
        {
          "output_type": "stream",
          "name": "stdout",
          "text": [
            "[11, 12, 26, 3, 5]\n"
          ]
        }
      ]
    },
    {
      "cell_type": "code",
      "source": [
        "# program to find the 2nd largest no in the list\n",
        "\n",
        "l1 = [2,8,6,14]\n",
        "firstlargest = max(l1)\n",
        "#print(firstlargest)\n",
        "l1.remove(firstlargest)\n",
        "#print(l1)\n",
        "\n",
        "secondlargest = max(l1)\n",
        "print(\"the 2nd largest no is \", secondlargest)"
      ],
      "metadata": {
        "id": "8oqSB-1A_nEV",
        "outputId": "ad84f576-711a-4376-b006-d78e3f43e285",
        "colab": {
          "base_uri": "https://localhost:8080/"
        }
      },
      "execution_count": 13,
      "outputs": [
        {
          "output_type": "stream",
          "name": "stdout",
          "text": [
            "the 2nd largest no is  8\n"
          ]
        }
      ]
    },
    {
      "cell_type": "code",
      "source": [
        "# finding largest element\n",
        "num=int(input('Enter which largest num would you like to fetch? '))\n",
        "l1 = [8,15,7,6,3,9]\n",
        "for i in range(num-1):\n",
        "  m = max(l1)\n",
        "  l1.remove(m)\n",
        "\n",
        "print('The largest number is ', max(l1))"
      ],
      "metadata": {
        "colab": {
          "base_uri": "https://localhost:8080/"
        },
        "id": "ZtuwDl8U2jXQ",
        "outputId": "143eaa8f-30d8-44f4-f40e-9b8b89c83fbe"
      },
      "execution_count": 4,
      "outputs": [
        {
          "output_type": "stream",
          "name": "stdout",
          "text": [
            "Enter which largest num would you like to fetch? 4\n",
            "The largest number is  7\n"
          ]
        }
      ]
    },
    {
      "cell_type": "code",
      "source": [
        "# program to remove the nth largest no\n",
        "num=int(input('Enter which largest num would you like to fetch? '))\n",
        "l1 = [8,15,7,6,3,9]\n",
        "for i in range(num-1):\n",
        "  m = max(l1)\n",
        "  l1.remove(m)\n",
        "\n",
        "print('The largest number is ', max(l1))"
      ],
      "metadata": {
        "id": "_D6I5BmVAXOe"
      },
      "execution_count": null,
      "outputs": []
    },
    {
      "cell_type": "code",
      "source": [
        "l1=[2,4,6,2,8,6,3,2,4]\n",
        "\n",
        "print(l1.count(4))"
      ],
      "metadata": {
        "id": "nsGHehByAeUP"
      },
      "execution_count": null,
      "outputs": []
    },
    {
      "cell_type": "code",
      "source": [
        "l1 = [10,30,40]\n",
        "print(l1)\n",
        "print(type(l1))"
      ],
      "metadata": {
        "id": "tRYbdgISAlNO"
      },
      "execution_count": null,
      "outputs": []
    },
    {
      "cell_type": "code",
      "source": [
        "# how many times element occurring in the list\n",
        "l1=[2,4,6,2,8,6,3,2,4]\n",
        "l2=[]\n",
        "for i in l1:\n",
        "    if i not in l2:\n",
        "        l2.append(i)\n",
        "        print(i,\"Occurs\", l1.count(i), \"times\")\n",
        "\n",
        "\n",
        ""
      ],
      "metadata": {
        "colab": {
          "base_uri": "https://localhost:8080/"
        },
        "id": "8TFawpnW2vDh",
        "outputId": "d9cc6ca5-c4ad-45d0-a960-212b11a0a8e1"
      },
      "execution_count": 5,
      "outputs": [
        {
          "output_type": "stream",
          "name": "stdout",
          "text": [
            "2 Occurs 3 times\n",
            "4 Occurs 2 times\n",
            "6 Occurs 2 times\n",
            "8 Occurs 1 times\n",
            "3 Occurs 1 times\n"
          ]
        }
      ]
    },
    {
      "cell_type": "code",
      "source": [
        "#tuple\n",
        "l = (10,20,30,40,50)\n",
        "print(l)\n",
        "print(type(l))"
      ],
      "metadata": {
        "colab": {
          "base_uri": "https://localhost:8080/"
        },
        "id": "WNAuONCZ3m6B",
        "outputId": "a5c9a4cf-712f-4539-fccb-94729799edc2"
      },
      "execution_count": 6,
      "outputs": [
        {
          "output_type": "stream",
          "name": "stdout",
          "text": [
            "(10, 20, 30, 40, 50)\n",
            "<class 'tuple'>\n"
          ]
        }
      ]
    },
    {
      "cell_type": "code",
      "source": [
        "#tuple are immutable\n",
        "t1 = (10,20,30,40,'NTT',1.1)\n",
        "t1.remove(20)\n",
        "t1[0]=100\n",
        "print(t1)\n"
      ],
      "metadata": {
        "id": "f6vn8o7D3AUQ"
      },
      "execution_count": null,
      "outputs": []
    },
    {
      "cell_type": "code",
      "source": [
        "#changing list to tuple\n",
        "l = [10,20,30,40,50]\n",
        "print(l)\n",
        "print(type(l))\n",
        "t= tuple(l)\n",
        "print(t)\n",
        "print(type(t))"
      ],
      "metadata": {
        "colab": {
          "base_uri": "https://localhost:8080/"
        },
        "id": "yhsLHOvc3tLD",
        "outputId": "1685830c-a2b2-4d8e-9bfc-0e8153ceb267"
      },
      "execution_count": 7,
      "outputs": [
        {
          "output_type": "stream",
          "name": "stdout",
          "text": [
            "[10, 20, 30, 40, 50]\n",
            "<class 'list'>\n",
            "(10, 20, 30, 40, 50)\n",
            "<class 'tuple'>\n"
          ]
        }
      ]
    },
    {
      "cell_type": "code",
      "source": [
        "#tuple with single element\n",
        "t = (10,)\n",
        "print(t)\n",
        "print(type(t))"
      ],
      "metadata": {
        "colab": {
          "base_uri": "https://localhost:8080/"
        },
        "id": "f3Op2Ja-3yTA",
        "outputId": "5181361c-e38f-4fa8-985a-3b66d4458eba"
      },
      "execution_count": 8,
      "outputs": [
        {
          "output_type": "stream",
          "name": "stdout",
          "text": [
            "(10,)\n",
            "<class 'tuple'>\n"
          ]
        }
      ]
    },
    {
      "cell_type": "code",
      "source": [
        "#tuple indexing\n",
        "t1 = (10,20,30,40,'NTT',1.1)\n",
        "print(t1[0])\n",
        "print(t1[-2])\n",
        "print(t1[-1])"
      ],
      "metadata": {
        "colab": {
          "base_uri": "https://localhost:8080/"
        },
        "id": "7rvcFOji34Fb",
        "outputId": "86653be4-1892-42ca-e9be-7f1b65b9059b"
      },
      "execution_count": 10,
      "outputs": [
        {
          "output_type": "stream",
          "name": "stdout",
          "text": [
            "10\n",
            "NTT\n",
            "1.1\n"
          ]
        }
      ]
    },
    {
      "cell_type": "code",
      "source": [
        "#concatenation of tuple\n",
        "t1 = (10,20,30,40,'NTT',1.1)\n",
        "print(id(t1))\n",
        "\n",
        "t1 = t1 +(80,90)\n",
        "print(id(t1))"
      ],
      "metadata": {
        "colab": {
          "base_uri": "https://localhost:8080/"
        },
        "id": "Bsuw8k614Hc3",
        "outputId": "03837b28-ab40-4c2d-8276-eb253bd0bc8c"
      },
      "execution_count": 12,
      "outputs": [
        {
          "output_type": "stream",
          "name": "stdout",
          "text": [
            "140049090123936\n",
            "140049089829280\n"
          ]
        }
      ]
    },
    {
      "cell_type": "code",
      "source": [
        "# slicing in tuple\n",
        "\n",
        "t1 = (10,20,30,40,50,\"NTT\",1.1)\n",
        "\n",
        "print(t1[::])\n",
        "\n",
        "print(t1[::-1])\n"
      ],
      "metadata": {
        "id": "CGyHwJAaAzNj"
      },
      "execution_count": null,
      "outputs": []
    },
    {
      "cell_type": "code",
      "source": [
        "t1 = (10,20,30,40,50,\"NTT\",1.1)\n",
        "\n",
        "for ele in t1:\n",
        "  print(ele)"
      ],
      "metadata": {
        "id": "gKmNPfZBA5Zi"
      },
      "execution_count": null,
      "outputs": []
    },
    {
      "cell_type": "code",
      "source": [
        "import sys\n",
        "\n",
        "list1 = [10,20,30,40,50,60]\n",
        "tup1 =  (10,20,30,40,50,60)\n",
        "\n",
        "print(\"list size is \", sys.getsizeof(list1))\n",
        "\n",
        "print(\"tuple size is \", sys.getsizeof(tup1))"
      ],
      "metadata": {
        "id": "FNZhcDjzA9tk"
      },
      "execution_count": null,
      "outputs": []
    },
    {
      "cell_type": "code",
      "source": [
        "# dictionary\n",
        "\n",
        "dict1 ={\"pp\":\"aaa\" , \"qq\":\"bbb\", \"rr\":\"ccc\",\"ss\":\"ddd\"}\n",
        "print(dict1)\n",
        "print(type(dict1))\n",
        "\n",
        "#access the dict\n",
        "\n",
        "print(dict1[\"pp\"])"
      ],
      "metadata": {
        "id": "XuPG_jfGBCDg"
      },
      "execution_count": null,
      "outputs": []
    }
  ]
}